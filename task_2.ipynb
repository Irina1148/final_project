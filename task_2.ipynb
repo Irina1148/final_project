{
 "cells": [
  {
   "cell_type": "markdown",
   "metadata": {},
   "source": [
    "\n",
    "Финальный проект\n",
    "--\n",
    "\n",
    "Вариант 2\n",
    "--\n",
    "\n",
    "Луговских Ирина\n",
    "--"
   ]
  },
  {
   "cell_type": "markdown",
   "metadata": {},
   "source": [
    "___"
   ]
  },
  {
   "cell_type": "markdown",
   "metadata": {},
   "source": [
    "**Задание 2. SQL**\n",
    "\n",
    "**2.1 Очень усердные ученики.**\n",
    "\n",
    "**2.1.1 Условие**\n",
    "\n",
    "Образовательные курсы состоят из различных уроков, каждый из которых состоит из нескольких маленьких заданий. Каждое такое маленькое задание называется \"горошиной\".\n",
    "\n",
    "Назовём очень усердным учеником того пользователя, который хотя бы раз за текущий месяц правильно решил 20 горошин.\n",
    "\n",
    "**2.1.2 Задача**\n",
    "\n",
    "Дана таблица default.peas:\n",
    "\n",
    "|Название атрибута||Тип атрибута||Смысловое значение|\n",
    "|---||---||---|\n",
    "|st_id||int||ID ученика|\n",
    "|timest||timestamp||Время решения карточки|\n",
    "|correct||bool||Правильно ли решена горошина?|\n",
    "|subject||text||Дисциплина в которой находится горошина|\n",
    "\n",
    "\n",
    "Необходимо написать оптимальный запрос, который даст информацию о количестве очень усердных студентов.NB! Под усердным студентом мы понимаем студента, который правильно решил 20 задач за текущий месяц."
   ]
  },
  {
   "cell_type": "code",
   "execution_count": 3,
   "metadata": {},
   "outputs": [],
   "source": [
    "import pandas as pd\n",
    "import pandahouse as ph"
   ]
  },
  {
   "cell_type": "code",
   "execution_count": 4,
   "metadata": {},
   "outputs": [],
   "source": [
    "#объявляем параметры подключения\n",
    "connection_default = {'host': 'https://clickhouse.lab.karpov.courses',\n",
    "                      'database':'default',\n",
    "                      'user':'student', \n",
    "                      'password':'dpo_python_2020'\n",
    "                     }"
   ]
  },
  {
   "cell_type": "code",
   "execution_count": 5,
   "metadata": {},
   "outputs": [],
   "source": [
    "#функция, выводит на экран размер таблицы, количество уникальный и пропущенных значений для каждого столбца\n",
    "def preliminary_analysis (df):\n",
    "    print(f'Размер таблицы {df.shape}\\n')\n",
    "    print(f'''Уникальные значения \n",
    "{df.nunique().to_string()}\\n''')\n",
    "    print(f'''Пропущенные значения \n",
    "{df.isna().sum().to_string()}''')"
   ]
  },
  {
   "cell_type": "markdown",
   "metadata": {},
   "source": [
    "Посмотрим на таблицу peas"
   ]
  },
  {
   "cell_type": "code",
   "execution_count": 6,
   "metadata": {},
   "outputs": [
    {
     "data": {
      "text/html": [
       "<div>\n",
       "<style scoped>\n",
       "    .dataframe tbody tr th:only-of-type {\n",
       "        vertical-align: middle;\n",
       "    }\n",
       "\n",
       "    .dataframe tbody tr th {\n",
       "        vertical-align: top;\n",
       "    }\n",
       "\n",
       "    .dataframe thead th {\n",
       "        text-align: right;\n",
       "    }\n",
       "</style>\n",
       "<table border=\"1\" class=\"dataframe\">\n",
       "  <thead>\n",
       "    <tr style=\"text-align: right;\">\n",
       "      <th></th>\n",
       "      <th>st_id</th>\n",
       "      <th>timest</th>\n",
       "      <th>correct</th>\n",
       "      <th>subject</th>\n",
       "    </tr>\n",
       "  </thead>\n",
       "  <tbody>\n",
       "    <tr>\n",
       "      <th>0</th>\n",
       "      <td>100379</td>\n",
       "      <td>2021-10-30 13:32:29</td>\n",
       "      <td>1</td>\n",
       "      <td>Theory of probability</td>\n",
       "    </tr>\n",
       "    <tr>\n",
       "      <th>1</th>\n",
       "      <td>100379</td>\n",
       "      <td>2021-10-30 14:11:19</td>\n",
       "      <td>0</td>\n",
       "      <td>Vizualization</td>\n",
       "    </tr>\n",
       "    <tr>\n",
       "      <th>2</th>\n",
       "      <td>100379</td>\n",
       "      <td>2021-10-30 15:54:22</td>\n",
       "      <td>1</td>\n",
       "      <td>Theory of probability</td>\n",
       "    </tr>\n",
       "  </tbody>\n",
       "</table>\n",
       "</div>"
      ],
      "text/plain": [
       "    st_id              timest  correct                subject\n",
       "0  100379 2021-10-30 13:32:29        1  Theory of probability\n",
       "1  100379 2021-10-30 14:11:19        0          Vizualization\n",
       "2  100379 2021-10-30 15:54:22        1  Theory of probability"
      ]
     },
     "execution_count": 6,
     "metadata": {},
     "output_type": "execute_result"
    }
   ],
   "source": [
    "query = '''\n",
    "SELECT st_id,\n",
    "    CAST (timest AS DATETIME) AS timest,\n",
    "    correct, \n",
    "    subject\n",
    "FROM peas\n",
    "'''\n",
    "\n",
    "peas = ph.read_clickhouse(query, connection=connection_default)\n",
    "peas.head(3)"
   ]
  },
  {
   "cell_type": "code",
   "execution_count": 7,
   "metadata": {},
   "outputs": [
    {
     "name": "stdout",
     "output_type": "stream",
     "text": [
      "Размер таблицы (13245, 4)\n",
      "\n",
      "Уникальные значения \n",
      "st_id        308\n",
      "timest     12238\n",
      "correct        2\n",
      "subject        5\n",
      "\n",
      "Пропущенные значения \n",
      "st_id      0\n",
      "timest     0\n",
      "correct    0\n",
      "subject    0\n"
     ]
    }
   ],
   "source": [
    "preliminary_analysis(peas)"
   ]
  },
  {
   "cell_type": "markdown",
   "metadata": {},
   "source": [
    "Посмотрим, данные за какие даты есть в таблице"
   ]
  },
  {
   "cell_type": "code",
   "execution_count": 8,
   "metadata": {},
   "outputs": [
    {
     "data": {
      "text/html": [
       "<div>\n",
       "<style scoped>\n",
       "    .dataframe tbody tr th:only-of-type {\n",
       "        vertical-align: middle;\n",
       "    }\n",
       "\n",
       "    .dataframe tbody tr th {\n",
       "        vertical-align: top;\n",
       "    }\n",
       "\n",
       "    .dataframe thead th {\n",
       "        text-align: right;\n",
       "    }\n",
       "</style>\n",
       "<table border=\"1\" class=\"dataframe\">\n",
       "  <thead>\n",
       "    <tr style=\"text-align: right;\">\n",
       "      <th></th>\n",
       "      <th>min_date_time</th>\n",
       "      <th>max_date_time</th>\n",
       "    </tr>\n",
       "  </thead>\n",
       "  <tbody>\n",
       "    <tr>\n",
       "      <th>0</th>\n",
       "      <td>2021-10-30 13:00:00</td>\n",
       "      <td>2021-10-31 17:29:52</td>\n",
       "    </tr>\n",
       "  </tbody>\n",
       "</table>\n",
       "</div>"
      ],
      "text/plain": [
       "        min_date_time       max_date_time\n",
       "0 2021-10-30 13:00:00 2021-10-31 17:29:52"
      ]
     },
     "execution_count": 8,
     "metadata": {},
     "output_type": "execute_result"
    }
   ],
   "source": [
    "query = '''\n",
    "SELECT MIN(CAST (timest AS DATETIME)) AS min_date_time,\n",
    "    MAX(CAST (timest AS DATETIME)) AS max_date_time\n",
    "FROM peas\n",
    "'''\n",
    "\n",
    "ph.read_clickhouse(query, connection=connection_default)"
   ]
  },
  {
   "cell_type": "markdown",
   "metadata": {},
   "source": [
    "В таблице данные чуть больше чем за одни сутки, к тому же все записи относятся к одному месяцу, поэтому дополнительная фильтрация по дате не требуется"
   ]
  },
  {
   "cell_type": "markdown",
   "metadata": {},
   "source": [
    "Переходим к решению задачи"
   ]
  },
  {
   "cell_type": "code",
   "execution_count": 9,
   "metadata": {},
   "outputs": [
    {
     "data": {
      "text/html": [
       "<div>\n",
       "<style scoped>\n",
       "    .dataframe tbody tr th:only-of-type {\n",
       "        vertical-align: middle;\n",
       "    }\n",
       "\n",
       "    .dataframe tbody tr th {\n",
       "        vertical-align: top;\n",
       "    }\n",
       "\n",
       "    .dataframe thead th {\n",
       "        text-align: right;\n",
       "    }\n",
       "</style>\n",
       "<table border=\"1\" class=\"dataframe\">\n",
       "  <thead>\n",
       "    <tr style=\"text-align: right;\">\n",
       "      <th></th>\n",
       "      <th>COUNT</th>\n",
       "    </tr>\n",
       "  </thead>\n",
       "  <tbody>\n",
       "    <tr>\n",
       "      <th>0</th>\n",
       "      <td>136</td>\n",
       "    </tr>\n",
       "  </tbody>\n",
       "</table>\n",
       "</div>"
      ],
      "text/plain": [
       "   COUNT\n",
       "0    136"
      ]
     },
     "execution_count": 9,
     "metadata": {},
     "output_type": "execute_result"
    }
   ],
   "source": [
    "query = '''\n",
    "SELECT COUNT(st_id) AS COUNT\n",
    "FROM \n",
    "(\n",
    "    SELECT st_id,\n",
    "        SUM(correct) AS correct\n",
    "    FROM peas\n",
    "    GROUP BY st_id\n",
    "    HAVING correct >= 20\n",
    ")\n",
    "'''\n",
    "\n",
    "ph.read_clickhouse(query, connection=connection_default)"
   ]
  },
  {
   "cell_type": "markdown",
   "metadata": {},
   "source": [
    "**Ответ:** 136 очень усердных студентов."
   ]
  },
  {
   "cell_type": "markdown",
   "metadata": {},
   "source": [
    "___"
   ]
  },
  {
   "cell_type": "markdown",
   "metadata": {},
   "source": [
    "**2.2 Оптимизация воронки**\n",
    "\n",
    "**2.2.1 Условие**\n",
    "\n",
    "Образовательная платформа предлагает пройти студентам курсы по модели trial: студент может решить бесплатно лишь 30 горошин в день. Для неограниченного количества заданий в определенной дисциплине студенту необходимо приобрести полный доступ. Команда провела эксперимент, где был протестирован новый экран оплаты.\n",
    "\n",
    "**2.2.2 Задача**\n",
    "\n",
    "Дана таблицы: \n",
    "\n",
    "*default.peas:*\n",
    "\n",
    "|Название атрибута||Тип атрибута||Смысловое значение|\n",
    "|---||---||---|\n",
    "|st_id||int||ID ученика|\n",
    "|timest||timestamp||Время решения карточки|\n",
    "|correct||bool||Правильно ли решена горошина?|\n",
    "|subject||text||Дисциплина в которой находится горошина|\n",
    "\n",
    "*default.studs:*\n",
    "\n",
    "|Название атрибута||Тип атрибута||Смысловое значение|\n",
    "|---||---||---|\n",
    "|st_id||int||ID ученика|\n",
    "|test_grp||text||Метка ученика в данном эксперименте|\n",
    "\n",
    "и *default.final_project_check:*\n",
    "\n",
    "|Название атрибута||Тип атрибута||Смысловое значение|\n",
    "|---||---||---|\n",
    "|st_id||int||ID ученика|\n",
    "|sale_time||timestamp||Время покупки|\n",
    "|money||int||Цена, по которой приобрели данный курс|\n",
    "|subject||text||Дисциплина в которой находится горошина| \n",
    "\n",
    "Необходимо в одном запросе выгрузить следующую информацию о группах пользователей:\n",
    "\n",
    " - ARPU \n",
    " - ARPAU \n",
    " - CR в покупку \n",
    " - СR активного пользователя в покупку \n",
    " - CR пользователя из активности по математике (subject = ’math’) в покупку курса по математике\n",
    "\n",
    "ARPU считается относительно всех пользователей, попавших в группы.\n",
    "\n",
    "Активным считается пользователь, за все время решивший больше 10 задач правильно в любых дисциплинах.\n",
    "\n",
    "Активным по математике считается пользователь, за все время решивший 2 или больше задач правильно по математике."
   ]
  },
  {
   "cell_type": "markdown",
   "metadata": {},
   "source": [
    "Таблицу *peas* мы видели в прошлом задании, теперь посмотрим на таблицы *studs* и *final_project_check*"
   ]
  },
  {
   "cell_type": "code",
   "execution_count": 10,
   "metadata": {
    "scrolled": true
   },
   "outputs": [
    {
     "data": {
      "text/html": [
       "<div>\n",
       "<style scoped>\n",
       "    .dataframe tbody tr th:only-of-type {\n",
       "        vertical-align: middle;\n",
       "    }\n",
       "\n",
       "    .dataframe tbody tr th {\n",
       "        vertical-align: top;\n",
       "    }\n",
       "\n",
       "    .dataframe thead th {\n",
       "        text-align: right;\n",
       "    }\n",
       "</style>\n",
       "<table border=\"1\" class=\"dataframe\">\n",
       "  <thead>\n",
       "    <tr style=\"text-align: right;\">\n",
       "      <th></th>\n",
       "      <th>st_id</th>\n",
       "      <th>test_grp</th>\n",
       "    </tr>\n",
       "  </thead>\n",
       "  <tbody>\n",
       "    <tr>\n",
       "      <th>0</th>\n",
       "      <td>100379</td>\n",
       "      <td>pilot</td>\n",
       "    </tr>\n",
       "    <tr>\n",
       "      <th>1</th>\n",
       "      <td>101432</td>\n",
       "      <td>control</td>\n",
       "    </tr>\n",
       "    <tr>\n",
       "      <th>2</th>\n",
       "      <td>104818</td>\n",
       "      <td>pilot</td>\n",
       "    </tr>\n",
       "  </tbody>\n",
       "</table>\n",
       "</div>"
      ],
      "text/plain": [
       "    st_id test_grp\n",
       "0  100379    pilot\n",
       "1  101432  control\n",
       "2  104818    pilot"
      ]
     },
     "execution_count": 10,
     "metadata": {},
     "output_type": "execute_result"
    }
   ],
   "source": [
    "query = '''\n",
    "SELECT * \n",
    "FROM studs\n",
    "'''\n",
    "\n",
    "studs = ph.read_clickhouse(query, connection=connection_default)\n",
    "studs.head(3)"
   ]
  },
  {
   "cell_type": "code",
   "execution_count": 11,
   "metadata": {
    "scrolled": true
   },
   "outputs": [
    {
     "name": "stdout",
     "output_type": "stream",
     "text": [
      "Размер таблицы (600, 2)\n",
      "\n",
      "Уникальные значения \n",
      "st_id       600\n",
      "test_grp      2\n",
      "\n",
      "Пропущенные значения \n",
      "st_id       0\n",
      "test_grp    0\n"
     ]
    }
   ],
   "source": [
    "preliminary_analysis(studs)"
   ]
  },
  {
   "cell_type": "code",
   "execution_count": 12,
   "metadata": {
    "scrolled": true
   },
   "outputs": [
    {
     "data": {
      "text/html": [
       "<div>\n",
       "<style scoped>\n",
       "    .dataframe tbody tr th:only-of-type {\n",
       "        vertical-align: middle;\n",
       "    }\n",
       "\n",
       "    .dataframe tbody tr th {\n",
       "        vertical-align: top;\n",
       "    }\n",
       "\n",
       "    .dataframe thead th {\n",
       "        text-align: right;\n",
       "    }\n",
       "</style>\n",
       "<table border=\"1\" class=\"dataframe\">\n",
       "  <thead>\n",
       "    <tr style=\"text-align: right;\">\n",
       "      <th></th>\n",
       "      <th>st_id</th>\n",
       "      <th>sale_time</th>\n",
       "      <th>money</th>\n",
       "      <th>subject</th>\n",
       "    </tr>\n",
       "  </thead>\n",
       "  <tbody>\n",
       "    <tr>\n",
       "      <th>0</th>\n",
       "      <td>101432</td>\n",
       "      <td>2021-10-31 04:44:32</td>\n",
       "      <td>85000</td>\n",
       "      <td>Math</td>\n",
       "    </tr>\n",
       "    <tr>\n",
       "      <th>1</th>\n",
       "      <td>101432</td>\n",
       "      <td>2021-10-31 12:43:50</td>\n",
       "      <td>65000</td>\n",
       "      <td>Vizualization</td>\n",
       "    </tr>\n",
       "    <tr>\n",
       "      <th>2</th>\n",
       "      <td>104885</td>\n",
       "      <td>2021-10-30 17:05:55</td>\n",
       "      <td>65000</td>\n",
       "      <td>Vizualization</td>\n",
       "    </tr>\n",
       "  </tbody>\n",
       "</table>\n",
       "</div>"
      ],
      "text/plain": [
       "    st_id           sale_time  money        subject\n",
       "0  101432 2021-10-31 04:44:32  85000           Math\n",
       "1  101432 2021-10-31 12:43:50  65000  Vizualization\n",
       "2  104885 2021-10-30 17:05:55  65000  Vizualization"
      ]
     },
     "execution_count": 12,
     "metadata": {},
     "output_type": "execute_result"
    }
   ],
   "source": [
    "query = '''\n",
    "SELECT st_id, \n",
    "    CAST (sale_time AS DATETIME) AS sale_time,\n",
    "    money,\n",
    "    subject\n",
    "FROM final_project_check\n",
    "'''\n",
    "\n",
    "final_project_check = ph.read_clickhouse(query, connection=connection_default)\n",
    "final_project_check.head(3)"
   ]
  },
  {
   "cell_type": "code",
   "execution_count": 13,
   "metadata": {
    "scrolled": false
   },
   "outputs": [
    {
     "name": "stdout",
     "output_type": "stream",
     "text": [
      "Размер таблицы (61, 4)\n",
      "\n",
      "Уникальные значения \n",
      "st_id        47\n",
      "sale_time    61\n",
      "money         5\n",
      "subject       5\n",
      "\n",
      "Пропущенные значения \n",
      "st_id        0\n",
      "sale_time    0\n",
      "money        0\n",
      "subject      0\n"
     ]
    }
   ],
   "source": [
    "preliminary_analysis(final_project_check)"
   ]
  },
  {
   "cell_type": "markdown",
   "metadata": {},
   "source": [
    "___"
   ]
  },
  {
   "cell_type": "markdown",
   "metadata": {},
   "source": [
    "Для того, что бы посчитать нужные метрики нам нужно знать:\n",
    " - количество решенных горошин\n",
    " - количество решенных горошин по математике\n",
    " - факт покупки (0/1)\n",
    " - факт покупки курса по математике (0/1)\n",
    " - сумма всех покупок\n",
    " - сумма всех покупок курсов по математике\n",
    "для каждого пользователя.\n",
    "\n",
    "Эту информацию мы сможем получить из таблиц *peas* и *final_project_check*"
   ]
  },
  {
   "cell_type": "code",
   "execution_count": 14,
   "metadata": {},
   "outputs": [
    {
     "data": {
      "text/html": [
       "<div>\n",
       "<style scoped>\n",
       "    .dataframe tbody tr th:only-of-type {\n",
       "        vertical-align: middle;\n",
       "    }\n",
       "\n",
       "    .dataframe tbody tr th {\n",
       "        vertical-align: top;\n",
       "    }\n",
       "\n",
       "    .dataframe thead th {\n",
       "        text-align: right;\n",
       "    }\n",
       "</style>\n",
       "<table border=\"1\" class=\"dataframe\">\n",
       "  <thead>\n",
       "    <tr style=\"text-align: right;\">\n",
       "      <th></th>\n",
       "      <th>st_id</th>\n",
       "      <th>sum_peas</th>\n",
       "      <th>sum_peas_math</th>\n",
       "    </tr>\n",
       "  </thead>\n",
       "  <tbody>\n",
       "    <tr>\n",
       "      <th>0</th>\n",
       "      <td>414769</td>\n",
       "      <td>40</td>\n",
       "      <td>0</td>\n",
       "    </tr>\n",
       "    <tr>\n",
       "      <th>1</th>\n",
       "      <td>878110</td>\n",
       "      <td>1</td>\n",
       "      <td>0</td>\n",
       "    </tr>\n",
       "    <tr>\n",
       "      <th>2</th>\n",
       "      <td>700123</td>\n",
       "      <td>237</td>\n",
       "      <td>0</td>\n",
       "    </tr>\n",
       "  </tbody>\n",
       "</table>\n",
       "</div>"
      ],
      "text/plain": [
       "    st_id  sum_peas  sum_peas_math\n",
       "0  414769        40              0\n",
       "1  878110         1              0\n",
       "2  700123       237              0"
      ]
     },
     "execution_count": 14,
     "metadata": {},
     "output_type": "execute_result"
    }
   ],
   "source": [
    "query = '''\n",
    "SELECT st_id,\n",
    "    COUNT(correct) AS sum_peas, \n",
    "    countIf(correct, subject = 'Math') AS sum_peas_math\n",
    "FROM peas\n",
    "GROUP BY st_id\n",
    "'''\n",
    "\n",
    "peas_by_id = ph.read_clickhouse(query, connection=connection_default)\n",
    "peas_by_id.head(3)"
   ]
  },
  {
   "cell_type": "code",
   "execution_count": 15,
   "metadata": {
    "scrolled": true
   },
   "outputs": [
    {
     "data": {
      "text/html": [
       "<div>\n",
       "<style scoped>\n",
       "    .dataframe tbody tr th:only-of-type {\n",
       "        vertical-align: middle;\n",
       "    }\n",
       "\n",
       "    .dataframe tbody tr th {\n",
       "        vertical-align: top;\n",
       "    }\n",
       "\n",
       "    .dataframe thead th {\n",
       "        text-align: right;\n",
       "    }\n",
       "</style>\n",
       "<table border=\"1\" class=\"dataframe\">\n",
       "  <thead>\n",
       "    <tr style=\"text-align: right;\">\n",
       "      <th></th>\n",
       "      <th>st_id</th>\n",
       "      <th>purchases</th>\n",
       "      <th>purchases_math</th>\n",
       "      <th>sum_money</th>\n",
       "      <th>sum_money_math</th>\n",
       "    </tr>\n",
       "  </thead>\n",
       "  <tbody>\n",
       "    <tr>\n",
       "      <th>0</th>\n",
       "      <td>270197</td>\n",
       "      <td>1</td>\n",
       "      <td>1</td>\n",
       "      <td>225000</td>\n",
       "      <td>85000</td>\n",
       "    </tr>\n",
       "    <tr>\n",
       "      <th>1</th>\n",
       "      <td>287212</td>\n",
       "      <td>1</td>\n",
       "      <td>0</td>\n",
       "      <td>135000</td>\n",
       "      <td>0</td>\n",
       "    </tr>\n",
       "    <tr>\n",
       "      <th>2</th>\n",
       "      <td>619784</td>\n",
       "      <td>1</td>\n",
       "      <td>0</td>\n",
       "      <td>100000</td>\n",
       "      <td>0</td>\n",
       "    </tr>\n",
       "  </tbody>\n",
       "</table>\n",
       "</div>"
      ],
      "text/plain": [
       "    st_id  purchases  purchases_math  sum_money  sum_money_math\n",
       "0  270197          1               1     225000           85000\n",
       "1  287212          1               0     135000               0\n",
       "2  619784          1               0     100000               0"
      ]
     },
     "execution_count": 15,
     "metadata": {},
     "output_type": "execute_result"
    }
   ],
   "source": [
    "query = '''\n",
    "SELECT st_id,\n",
    "    (COUNT(st_id) > 0) AS purchases,\n",
    "    (countIf(st_id, subject = 'Math') > 0) AS purchases_math,\n",
    "    SUM(money) AS sum_money,\n",
    "    sumIf(money, subject = 'Math') AS sum_money_math\n",
    "FROM final_project_check\n",
    "GROUP BY st_id\n",
    "'''\n",
    "\n",
    "final_project_check_by_id = ph.read_clickhouse(query, connection=connection_default)\n",
    "final_project_check_by_id.head(3)"
   ]
  },
  {
   "cell_type": "markdown",
   "metadata": {},
   "source": [
    "Соберем все данные в одну таблицу, для этого присоединим к таблице *studs* таблицы, полученные в предыдущих шагах."
   ]
  },
  {
   "cell_type": "code",
   "execution_count": 16,
   "metadata": {
    "scrolled": false
   },
   "outputs": [
    {
     "data": {
      "text/html": [
       "<div>\n",
       "<style scoped>\n",
       "    .dataframe tbody tr th:only-of-type {\n",
       "        vertical-align: middle;\n",
       "    }\n",
       "\n",
       "    .dataframe tbody tr th {\n",
       "        vertical-align: top;\n",
       "    }\n",
       "\n",
       "    .dataframe thead th {\n",
       "        text-align: right;\n",
       "    }\n",
       "</style>\n",
       "<table border=\"1\" class=\"dataframe\">\n",
       "  <thead>\n",
       "    <tr style=\"text-align: right;\">\n",
       "      <th></th>\n",
       "      <th>a.st_id</th>\n",
       "      <th>a.test_grp</th>\n",
       "      <th>b.st_id</th>\n",
       "      <th>b.sum_peas</th>\n",
       "      <th>b.sum_peas_math</th>\n",
       "      <th>c.st_id</th>\n",
       "      <th>c.purchases</th>\n",
       "      <th>c.purchases_math</th>\n",
       "      <th>c.sum_money</th>\n",
       "      <th>c.sum_money_math</th>\n",
       "    </tr>\n",
       "  </thead>\n",
       "  <tbody>\n",
       "    <tr>\n",
       "      <th>0</th>\n",
       "      <td>100379</td>\n",
       "      <td>pilot</td>\n",
       "      <td>100379</td>\n",
       "      <td>47</td>\n",
       "      <td>0</td>\n",
       "      <td></td>\n",
       "      <td>0</td>\n",
       "      <td>0</td>\n",
       "      <td>0</td>\n",
       "      <td>0</td>\n",
       "    </tr>\n",
       "    <tr>\n",
       "      <th>1</th>\n",
       "      <td>101432</td>\n",
       "      <td>control</td>\n",
       "      <td>101432</td>\n",
       "      <td>28</td>\n",
       "      <td>0</td>\n",
       "      <td>101432</td>\n",
       "      <td>1</td>\n",
       "      <td>1</td>\n",
       "      <td>150000</td>\n",
       "      <td>85000</td>\n",
       "    </tr>\n",
       "    <tr>\n",
       "      <th>2</th>\n",
       "      <td>104818</td>\n",
       "      <td>pilot</td>\n",
       "      <td></td>\n",
       "      <td>0</td>\n",
       "      <td>0</td>\n",
       "      <td></td>\n",
       "      <td>0</td>\n",
       "      <td>0</td>\n",
       "      <td>0</td>\n",
       "      <td>0</td>\n",
       "    </tr>\n",
       "    <tr>\n",
       "      <th>3</th>\n",
       "      <td>104885</td>\n",
       "      <td>pilot</td>\n",
       "      <td>104885</td>\n",
       "      <td>10</td>\n",
       "      <td>0</td>\n",
       "      <td>104885</td>\n",
       "      <td>1</td>\n",
       "      <td>0</td>\n",
       "      <td>140000</td>\n",
       "      <td>0</td>\n",
       "    </tr>\n",
       "    <tr>\n",
       "      <th>4</th>\n",
       "      <td>104966</td>\n",
       "      <td>pilot</td>\n",
       "      <td>104966</td>\n",
       "      <td>47</td>\n",
       "      <td>0</td>\n",
       "      <td></td>\n",
       "      <td>0</td>\n",
       "      <td>0</td>\n",
       "      <td>0</td>\n",
       "      <td>0</td>\n",
       "    </tr>\n",
       "    <tr>\n",
       "      <th>...</th>\n",
       "      <td>...</td>\n",
       "      <td>...</td>\n",
       "      <td>...</td>\n",
       "      <td>...</td>\n",
       "      <td>...</td>\n",
       "      <td>...</td>\n",
       "      <td>...</td>\n",
       "      <td>...</td>\n",
       "      <td>...</td>\n",
       "      <td>...</td>\n",
       "    </tr>\n",
       "    <tr>\n",
       "      <th>595</th>\n",
       "      <td>988626</td>\n",
       "      <td>pilot</td>\n",
       "      <td></td>\n",
       "      <td>0</td>\n",
       "      <td>0</td>\n",
       "      <td></td>\n",
       "      <td>0</td>\n",
       "      <td>0</td>\n",
       "      <td>0</td>\n",
       "      <td>0</td>\n",
       "    </tr>\n",
       "    <tr>\n",
       "      <th>596</th>\n",
       "      <td>993249</td>\n",
       "      <td>pilot</td>\n",
       "      <td></td>\n",
       "      <td>0</td>\n",
       "      <td>0</td>\n",
       "      <td></td>\n",
       "      <td>0</td>\n",
       "      <td>0</td>\n",
       "      <td>0</td>\n",
       "      <td>0</td>\n",
       "    </tr>\n",
       "    <tr>\n",
       "      <th>597</th>\n",
       "      <td>994983</td>\n",
       "      <td>pilot</td>\n",
       "      <td>994983</td>\n",
       "      <td>91</td>\n",
       "      <td>30</td>\n",
       "      <td></td>\n",
       "      <td>0</td>\n",
       "      <td>0</td>\n",
       "      <td>0</td>\n",
       "      <td>0</td>\n",
       "    </tr>\n",
       "    <tr>\n",
       "      <th>598</th>\n",
       "      <td>996911</td>\n",
       "      <td>control</td>\n",
       "      <td>996911</td>\n",
       "      <td>35</td>\n",
       "      <td>0</td>\n",
       "      <td></td>\n",
       "      <td>0</td>\n",
       "      <td>0</td>\n",
       "      <td>0</td>\n",
       "      <td>0</td>\n",
       "    </tr>\n",
       "    <tr>\n",
       "      <th>599</th>\n",
       "      <td>999201</td>\n",
       "      <td>pilot</td>\n",
       "      <td></td>\n",
       "      <td>0</td>\n",
       "      <td>0</td>\n",
       "      <td></td>\n",
       "      <td>0</td>\n",
       "      <td>0</td>\n",
       "      <td>0</td>\n",
       "      <td>0</td>\n",
       "    </tr>\n",
       "  </tbody>\n",
       "</table>\n",
       "<p>600 rows × 10 columns</p>\n",
       "</div>"
      ],
      "text/plain": [
       "    a.st_id a.test_grp b.st_id  b.sum_peas  b.sum_peas_math c.st_id  \\\n",
       "0    100379      pilot  100379          47                0           \n",
       "1    101432    control  101432          28                0  101432   \n",
       "2    104818      pilot                   0                0           \n",
       "3    104885      pilot  104885          10                0  104885   \n",
       "4    104966      pilot  104966          47                0           \n",
       "..      ...        ...     ...         ...              ...     ...   \n",
       "595  988626      pilot                   0                0           \n",
       "596  993249      pilot                   0                0           \n",
       "597  994983      pilot  994983          91               30           \n",
       "598  996911    control  996911          35                0           \n",
       "599  999201      pilot                   0                0           \n",
       "\n",
       "     c.purchases  c.purchases_math  c.sum_money  c.sum_money_math  \n",
       "0              0                 0            0                 0  \n",
       "1              1                 1       150000             85000  \n",
       "2              0                 0            0                 0  \n",
       "3              1                 0       140000                 0  \n",
       "4              0                 0            0                 0  \n",
       "..           ...               ...          ...               ...  \n",
       "595            0                 0            0                 0  \n",
       "596            0                 0            0                 0  \n",
       "597            0                 0            0                 0  \n",
       "598            0                 0            0                 0  \n",
       "599            0                 0            0                 0  \n",
       "\n",
       "[600 rows x 10 columns]"
      ]
     },
     "execution_count": 16,
     "metadata": {},
     "output_type": "execute_result"
    }
   ],
   "source": [
    "query = '''\n",
    "SELECT *\n",
    "FROM\n",
    "    studs AS a\n",
    "FULL JOIN\n",
    "    (SELECT st_id,\n",
    "        COUNT(correct) AS sum_peas, \n",
    "        countIf(correct, subject = 'Math') AS sum_peas_math\n",
    "    FROM peas\n",
    "    GROUP BY st_id\n",
    "    ) AS b\n",
    "ON a.st_id = b.st_id\n",
    "FULL JOIN\n",
    "    (SELECT st_id,\n",
    "        (COUNT(st_id) > 0) AS purchases,\n",
    "        (countIf(st_id, subject = 'Math') > 0) AS purchases_math,\n",
    "        SUM(money) AS sum_money,\n",
    "        sumIf(money, subject = 'Math') AS sum_money_math\n",
    "    FROM final_project_check\n",
    "    GROUP BY st_id\n",
    "    ) AS c\n",
    "ON a.st_id = c.st_id\n",
    "'''\n",
    "ph.read_clickhouse(query, connection=connection_default)"
   ]
  },
  {
   "cell_type": "markdown",
   "metadata": {},
   "source": [
    "Мы получили таблицу, в которой для каждого студента есть вся нужная нам информация.\n",
    "\n",
    "Осталось рассчитать метрики"
   ]
  },
  {
   "cell_type": "code",
   "execution_count": 17,
   "metadata": {
    "scrolled": true
   },
   "outputs": [
    {
     "data": {
      "text/html": [
       "<div>\n",
       "<style scoped>\n",
       "    .dataframe tbody tr th:only-of-type {\n",
       "        vertical-align: middle;\n",
       "    }\n",
       "\n",
       "    .dataframe tbody tr th {\n",
       "        vertical-align: top;\n",
       "    }\n",
       "\n",
       "    .dataframe thead th {\n",
       "        text-align: right;\n",
       "    }\n",
       "</style>\n",
       "<table border=\"1\" class=\"dataframe\">\n",
       "  <thead>\n",
       "    <tr style=\"text-align: right;\">\n",
       "      <th></th>\n",
       "      <th>group</th>\n",
       "      <th>ARPU</th>\n",
       "      <th>ARPAU</th>\n",
       "      <th>CR</th>\n",
       "      <th>CR_activ</th>\n",
       "      <th>CR_activ_math</th>\n",
       "    </tr>\n",
       "  </thead>\n",
       "  <tbody>\n",
       "    <tr>\n",
       "      <th>0</th>\n",
       "      <td>control</td>\n",
       "      <td>4541.0</td>\n",
       "      <td>9172.0</td>\n",
       "      <td>0.0590</td>\n",
       "      <td>0.1192</td>\n",
       "      <td>0.060</td>\n",
       "    </tr>\n",
       "    <tr>\n",
       "      <th>1</th>\n",
       "      <td>pilot</td>\n",
       "      <td>11508.0</td>\n",
       "      <td>24132.0</td>\n",
       "      <td>0.1458</td>\n",
       "      <td>0.2975</td>\n",
       "      <td>0.093</td>\n",
       "    </tr>\n",
       "  </tbody>\n",
       "</table>\n",
       "</div>"
      ],
      "text/plain": [
       "     group     ARPU    ARPAU      CR  CR_activ  CR_activ_math\n",
       "0  control   4541.0   9172.0  0.0590    0.1192          0.060\n",
       "1    pilot  11508.0  24132.0  0.1458    0.2975          0.093"
      ]
     },
     "execution_count": 17,
     "metadata": {},
     "output_type": "execute_result"
    }
   ],
   "source": [
    "query = '''\n",
    "SELECT\n",
    "    a.test_grp AS group,\n",
    "    ROUND(sum(c.sum_money) / count(a.st_id)) as ARPU,\n",
    "    ROUND(sumIf(c.sum_money, b.sum_peas > 10) / countIf(a.st_id, b.sum_peas > 10)) as ARPAU,\n",
    "    ROUND(sum(c.purchases) / count(a.st_id), 4) as CR,\n",
    "    ROUND(sumIf(c.purchases, b.sum_peas > 10) / countIf(a.st_id, b.sum_peas > 10), 4) as CR_activ,\n",
    "    ROUND(sumIf(c.purchases_math, b.sum_peas_math > 2) / countIf(a.st_id, b.sum_peas_math > 2), 4) as CR_activ_math    \n",
    "FROM\n",
    "(SELECT *\n",
    "FROM\n",
    "    studs AS a\n",
    "FULL JOIN\n",
    "    (SELECT st_id,\n",
    "        COUNT(correct) AS sum_peas, \n",
    "        countIf(correct, subject = 'Math') AS sum_peas_math\n",
    "    FROM peas\n",
    "    GROUP BY st_id\n",
    "    ) AS b\n",
    "ON a.st_id = b.st_id\n",
    "FULL JOIN\n",
    "    (SELECT st_id,\n",
    "        COUNT(st_id) AS purchases,\n",
    "        countIf(st_id, subject = 'Math') AS purchases_math,\n",
    "        SUM(money) AS sum_money,\n",
    "        sumIf(money, subject = 'Math') AS sum_money_math\n",
    "    FROM final_project_check\n",
    "    GROUP BY st_id\n",
    "    ) AS c\n",
    "ON a.st_id = c.st_id\n",
    ")\n",
    "GROUP BY \n",
    "    a.test_grp\n",
    "'''\n",
    "metrics = ph.read_clickhouse(query, connection=connection_default)\n",
    "metrics"
   ]
  },
  {
   "cell_type": "markdown",
   "metadata": {},
   "source": [
    "Несложно увидеть, что все метрики в группе *pilot* выше чем в группе *control*. \n",
    "\n",
    "Это задание не предполагает глубокого анализа, поэтому я рассчитаю, во сколько раз отличаются показатели."
   ]
  },
  {
   "cell_type": "code",
   "execution_count": 18,
   "metadata": {},
   "outputs": [
    {
     "data": {
      "text/html": [
       "<div>\n",
       "<style scoped>\n",
       "    .dataframe tbody tr th:only-of-type {\n",
       "        vertical-align: middle;\n",
       "    }\n",
       "\n",
       "    .dataframe tbody tr th {\n",
       "        vertical-align: top;\n",
       "    }\n",
       "\n",
       "    .dataframe thead th {\n",
       "        text-align: right;\n",
       "    }\n",
       "</style>\n",
       "<table border=\"1\" class=\"dataframe\">\n",
       "  <thead>\n",
       "    <tr style=\"text-align: right;\">\n",
       "      <th>group</th>\n",
       "      <th>control</th>\n",
       "      <th>pilot</th>\n",
       "      <th>mertic_up</th>\n",
       "    </tr>\n",
       "  </thead>\n",
       "  <tbody>\n",
       "    <tr>\n",
       "      <th>ARPU</th>\n",
       "      <td>4541.0000</td>\n",
       "      <td>11508.0000</td>\n",
       "      <td>2.534244</td>\n",
       "    </tr>\n",
       "    <tr>\n",
       "      <th>ARPAU</th>\n",
       "      <td>9172.0000</td>\n",
       "      <td>24132.0000</td>\n",
       "      <td>2.631051</td>\n",
       "    </tr>\n",
       "    <tr>\n",
       "      <th>CR</th>\n",
       "      <td>0.0590</td>\n",
       "      <td>0.1458</td>\n",
       "      <td>2.471186</td>\n",
       "    </tr>\n",
       "    <tr>\n",
       "      <th>CR_activ</th>\n",
       "      <td>0.1192</td>\n",
       "      <td>0.2975</td>\n",
       "      <td>2.495805</td>\n",
       "    </tr>\n",
       "    <tr>\n",
       "      <th>CR_activ_math</th>\n",
       "      <td>0.0600</td>\n",
       "      <td>0.0930</td>\n",
       "      <td>1.550000</td>\n",
       "    </tr>\n",
       "  </tbody>\n",
       "</table>\n",
       "</div>"
      ],
      "text/plain": [
       "group            control       pilot  mertic_up\n",
       "ARPU           4541.0000  11508.0000   2.534244\n",
       "ARPAU          9172.0000  24132.0000   2.631051\n",
       "CR                0.0590      0.1458   2.471186\n",
       "CR_activ          0.1192      0.2975   2.495805\n",
       "CR_activ_math     0.0600      0.0930   1.550000"
      ]
     },
     "execution_count": 18,
     "metadata": {},
     "output_type": "execute_result"
    }
   ],
   "source": [
    "metrics = metrics.set_index('group').transpose()\n",
    "metrics['mertic_up'] = metrics.pilot / metrics.control\n",
    "metrics"
   ]
  },
  {
   "cell_type": "markdown",
   "metadata": {},
   "source": [
    "**Вывод:**\n",
    "\n",
    "CR для активных студентов по математике показатели отличаются в полтора раза.\n",
    "\n",
    "Все остальные метрики отличаются примерно в два с половиной раза.\n",
    "\n",
    "Можно с уверенностью сказать, что внедрение нового экрана оплаты показало хорошие результаты."
   ]
  },
  {
   "cell_type": "code",
   "execution_count": 19,
   "metadata": {},
   "outputs": [
    {
     "name": "stdout",
     "output_type": "stream",
     "text": [
      "Requirement already satisfied: pandahouse in c:\\users\\dima\\anaconda3\\lib\\site-packages (0.2.7)Note: you may need to restart the kernel to use updated packages.\n",
      "\n",
      "Requirement already satisfied: requests in c:\\users\\dima\\anaconda3\\lib\\site-packages (from pandahouse) (2.28.1)\n",
      "Requirement already satisfied: pandas in c:\\users\\dima\\anaconda3\\lib\\site-packages (from pandahouse) (1.4.4)\n",
      "Requirement already satisfied: toolz in c:\\users\\dima\\anaconda3\\lib\\site-packages (from pandahouse) (0.11.2)\n",
      "Requirement already satisfied: numpy>=1.18.5 in c:\\users\\dima\\anaconda3\\lib\\site-packages (from pandas->pandahouse) (1.21.5)\n",
      "Requirement already satisfied: pytz>=2020.1 in c:\\users\\dima\\anaconda3\\lib\\site-packages (from pandas->pandahouse) (2022.1)\n",
      "Requirement already satisfied: python-dateutil>=2.8.1 in c:\\users\\dima\\anaconda3\\lib\\site-packages (from pandas->pandahouse) (2.8.2)\n",
      "Requirement already satisfied: certifi>=2017.4.17 in c:\\users\\dima\\anaconda3\\lib\\site-packages (from requests->pandahouse) (2022.9.14)\n",
      "Requirement already satisfied: urllib3<1.27,>=1.21.1 in c:\\users\\dima\\anaconda3\\lib\\site-packages (from requests->pandahouse) (1.26.11)\n",
      "Requirement already satisfied: charset-normalizer<3,>=2 in c:\\users\\dima\\anaconda3\\lib\\site-packages (from requests->pandahouse) (2.0.4)\n",
      "Requirement already satisfied: idna<4,>=2.5 in c:\\users\\dima\\anaconda3\\lib\\site-packages (from requests->pandahouse) (3.3)\n",
      "Requirement already satisfied: six>=1.5 in c:\\users\\dima\\anaconda3\\lib\\site-packages (from python-dateutil>=2.8.1->pandas->pandahouse) (1.16.0)\n"
     ]
    }
   ],
   "source": [
    "pip install pandahouse"
   ]
  },
  {
   "cell_type": "code",
   "execution_count": null,
   "metadata": {},
   "outputs": [],
   "source": []
  }
 ],
 "metadata": {
  "kernelspec": {
   "display_name": "Python 3 (ipykernel)",
   "language": "python",
   "name": "python3"
  },
  "language_info": {
   "codemirror_mode": {
    "name": "ipython",
    "version": 3
   },
   "file_extension": ".py",
   "mimetype": "text/x-python",
   "name": "python",
   "nbconvert_exporter": "python",
   "pygments_lexer": "ipython3",
   "version": "3.9.13"
  }
 },
 "nbformat": 4,
 "nbformat_minor": 4
}
