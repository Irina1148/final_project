{
 "cells": [
  {
   "cell_type": "markdown",
   "metadata": {},
   "source": [
    "\n",
    "Финальный проект\n",
    "--\n",
    "\n",
    "Вариант 2\n",
    "--\n",
    "\n",
    "Луговских Ирина\n",
    "--"
   ]
  },
  {
   "cell_type": "markdown",
   "metadata": {},
   "source": [
    "___"
   ]
  },
  {
   "cell_type": "markdown",
   "metadata": {},
   "source": [
    "**Задание 1. A/B–тестирование**\n",
    "\n",
    "**1.1 Условие**\n",
    "\n",
    "Одной из основных задач аналитика в нашей команде является корректное проведение экспериментов. Для этого мы применяем метод A/B–тестирования. В ходе тестирования одной гипотезы целевой группе была предложена новая механика оплаты услуг на сайте, у контрольной группы оставалась базовая механика. В качестве задания Вам необходимо проанализировать итоги эксперимента и сделать вывод, стоит ли запускать новую механику оплаты на всех пользователей.\n",
    "\n",
    "**1.2 Входные данные**\n",
    "\n",
    "В качестве входных данных Вы имеете 4 csv-файла:\n",
    "\n",
    " - *groups.csv* - файл с информацией о принадлежности пользователя к контрольной или экспериментальной группе (А – контроль, B – целевая группа) \n",
    " - *groups_add.csv* - дополнительный файл с пользователями, который вам прислали спустя 2 дня после передачи данных\n",
    " - *active_studs.csv* - файл с информацией о пользователях, которые зашли на платформу в дни проведения эксперимента. \n",
    " - *checks.csv* - файл с информацией об оплатах пользователей в дни проведения эксперимента. \n",
    "\n",
    "**1.3 Вопросы**\n",
    "\n",
    "Предлагаем Вам ответить на следующие вопросы:\n",
    "\n",
    " - На какие метрики Вы смотрите в ходе анализа и почему?\n",
    " - Имеются ли различия в показателях и с чем они могут быть связаны?\n",
    " - Являются ли эти различия статистически значимыми?\n",
    " - Стоит ли запускать новую механику на всех пользователей?\n",
    " - Данный список вопросов не является обязательным, и Вы можете при своём ответе опираться на собственный план.\n",
    "\n",
    "**1.4 Требования к ответу**\n",
    "\n",
    "При выполнении тестового задания необходимо использовать язык программирования Python. \n",
    "В файле обязательно должны быть комментарии к тем действиям, которые Вы выполняете с данными. \n",
    "Файл должен представлять собой законченный отчёт с выводами, сделанными в ходе исследования."
   ]
  },
  {
   "cell_type": "markdown",
   "metadata": {},
   "source": [
    "___"
   ]
  },
  {
   "cell_type": "code",
   "execution_count": 48,
   "metadata": {},
   "outputs": [],
   "source": [
    "import pandas as pd\n",
    "import numpy as np\n",
    "import seaborn as sns\n",
    "from scipy.stats import chi2_contingency, chi2, levene, ttest_ind, bootstrap"
   ]
  },
  {
   "cell_type": "code",
   "execution_count": 2,
   "metadata": {},
   "outputs": [],
   "source": [
    "active_studs = pd.read_csv('active_studs.csv')\n",
    "checks = pd.read_csv('checks.csv', sep=';')\n",
    "groups = pd.read_csv('groups.csv', sep=';')\n",
    "group_add = pd.read_csv('group_add.csv')"
   ]
  },
  {
   "cell_type": "markdown",
   "metadata": {},
   "source": [
    "**Предварительный анализ данных**"
   ]
  },
  {
   "cell_type": "code",
   "execution_count": 3,
   "metadata": {},
   "outputs": [],
   "source": [
    "#функция, выводит на экран размер таблицы, количество уникальный и пропущенных значений для каждого столбца\n",
    "def preliminary_analysis (df):\n",
    "    print(f'Размер таблицы {df.shape}\\n')\n",
    "    print(f'''Уникальные значения \n",
    "{df.nunique().to_string()}\\n''')\n",
    "    print(f'''Пропущенные значения \n",
    "{df.isna().sum().to_string()}''')"
   ]
  },
  {
   "cell_type": "markdown",
   "metadata": {},
   "source": [
    "___"
   ]
  },
  {
   "cell_type": "code",
   "execution_count": 4,
   "metadata": {},
   "outputs": [
    {
     "data": {
      "text/html": [
       "<div>\n",
       "<style scoped>\n",
       "    .dataframe tbody tr th:only-of-type {\n",
       "        vertical-align: middle;\n",
       "    }\n",
       "\n",
       "    .dataframe tbody tr th {\n",
       "        vertical-align: top;\n",
       "    }\n",
       "\n",
       "    .dataframe thead th {\n",
       "        text-align: right;\n",
       "    }\n",
       "</style>\n",
       "<table border=\"1\" class=\"dataframe\">\n",
       "  <thead>\n",
       "    <tr style=\"text-align: right;\">\n",
       "      <th></th>\n",
       "      <th>student_id</th>\n",
       "    </tr>\n",
       "  </thead>\n",
       "  <tbody>\n",
       "    <tr>\n",
       "      <th>0</th>\n",
       "      <td>581585</td>\n",
       "    </tr>\n",
       "    <tr>\n",
       "      <th>1</th>\n",
       "      <td>5723133</td>\n",
       "    </tr>\n",
       "    <tr>\n",
       "      <th>2</th>\n",
       "      <td>3276743</td>\n",
       "    </tr>\n",
       "  </tbody>\n",
       "</table>\n",
       "</div>"
      ],
      "text/plain": [
       "   student_id\n",
       "0      581585\n",
       "1     5723133\n",
       "2     3276743"
      ]
     },
     "execution_count": 4,
     "metadata": {},
     "output_type": "execute_result"
    }
   ],
   "source": [
    "active_studs.head(3)"
   ]
  },
  {
   "cell_type": "code",
   "execution_count": 5,
   "metadata": {},
   "outputs": [
    {
     "name": "stdout",
     "output_type": "stream",
     "text": [
      "Размер таблицы (8341, 1)\n",
      "\n",
      "Уникальные значения \n",
      "student_id    8341\n",
      "\n",
      "Пропущенные значения \n",
      "student_id    0\n"
     ]
    }
   ],
   "source": [
    "preliminary_analysis(active_studs)"
   ]
  },
  {
   "cell_type": "markdown",
   "metadata": {},
   "source": [
    "*active_studs* - список пользователей, которые зашли на платформу в дни проведения эксперимента, все значения уникальные"
   ]
  },
  {
   "cell_type": "markdown",
   "metadata": {},
   "source": [
    "___"
   ]
  },
  {
   "cell_type": "code",
   "execution_count": 6,
   "metadata": {},
   "outputs": [
    {
     "data": {
      "text/html": [
       "<div>\n",
       "<style scoped>\n",
       "    .dataframe tbody tr th:only-of-type {\n",
       "        vertical-align: middle;\n",
       "    }\n",
       "\n",
       "    .dataframe tbody tr th {\n",
       "        vertical-align: top;\n",
       "    }\n",
       "\n",
       "    .dataframe thead th {\n",
       "        text-align: right;\n",
       "    }\n",
       "</style>\n",
       "<table border=\"1\" class=\"dataframe\">\n",
       "  <thead>\n",
       "    <tr style=\"text-align: right;\">\n",
       "      <th></th>\n",
       "      <th>id</th>\n",
       "      <th>grp</th>\n",
       "    </tr>\n",
       "  </thead>\n",
       "  <tbody>\n",
       "    <tr>\n",
       "      <th>0</th>\n",
       "      <td>1489</td>\n",
       "      <td>B</td>\n",
       "    </tr>\n",
       "    <tr>\n",
       "      <th>1</th>\n",
       "      <td>1627</td>\n",
       "      <td>A</td>\n",
       "    </tr>\n",
       "    <tr>\n",
       "      <th>2</th>\n",
       "      <td>1768</td>\n",
       "      <td>B</td>\n",
       "    </tr>\n",
       "  </tbody>\n",
       "</table>\n",
       "</div>"
      ],
      "text/plain": [
       "     id grp\n",
       "0  1489   B\n",
       "1  1627   A\n",
       "2  1768   B"
      ]
     },
     "execution_count": 6,
     "metadata": {},
     "output_type": "execute_result"
    }
   ],
   "source": [
    "groups.head(3)"
   ]
  },
  {
   "cell_type": "code",
   "execution_count": 7,
   "metadata": {},
   "outputs": [
    {
     "name": "stdout",
     "output_type": "stream",
     "text": [
      "Размер таблицы (74484, 2)\n",
      "\n",
      "Уникальные значения \n",
      "id     74484\n",
      "grp        2\n",
      "\n",
      "Пропущенные значения \n",
      "id     0\n",
      "grp    0\n"
     ]
    }
   ],
   "source": [
    "preliminary_analysis(groups)"
   ]
  },
  {
   "cell_type": "markdown",
   "metadata": {},
   "source": [
    "*groups* - таблица с информацией о принадлежности пользователя к контрольной или экспериментальной группе (А – контроль, B – целевая группа), все значения *id* - уникальные, названия колонок нужно изменить"
   ]
  },
  {
   "cell_type": "code",
   "execution_count": 8,
   "metadata": {
    "scrolled": true
   },
   "outputs": [
    {
     "data": {
      "text/html": [
       "<div>\n",
       "<style scoped>\n",
       "    .dataframe tbody tr th:only-of-type {\n",
       "        vertical-align: middle;\n",
       "    }\n",
       "\n",
       "    .dataframe tbody tr th {\n",
       "        vertical-align: top;\n",
       "    }\n",
       "\n",
       "    .dataframe thead th {\n",
       "        text-align: right;\n",
       "    }\n",
       "</style>\n",
       "<table border=\"1\" class=\"dataframe\">\n",
       "  <thead>\n",
       "    <tr style=\"text-align: right;\">\n",
       "      <th></th>\n",
       "      <th>id</th>\n",
       "      <th>grp</th>\n",
       "    </tr>\n",
       "  </thead>\n",
       "  <tbody>\n",
       "    <tr>\n",
       "      <th>0</th>\n",
       "      <td>5694584</td>\n",
       "      <td>B</td>\n",
       "    </tr>\n",
       "    <tr>\n",
       "      <th>1</th>\n",
       "      <td>5694830</td>\n",
       "      <td>B</td>\n",
       "    </tr>\n",
       "    <tr>\n",
       "      <th>2</th>\n",
       "      <td>5695057</td>\n",
       "      <td>B</td>\n",
       "    </tr>\n",
       "  </tbody>\n",
       "</table>\n",
       "</div>"
      ],
      "text/plain": [
       "        id grp\n",
       "0  5694584   B\n",
       "1  5694830   B\n",
       "2  5695057   B"
      ]
     },
     "execution_count": 8,
     "metadata": {},
     "output_type": "execute_result"
    }
   ],
   "source": [
    "group_add.head(3)"
   ]
  },
  {
   "cell_type": "code",
   "execution_count": 9,
   "metadata": {},
   "outputs": [
    {
     "name": "stdout",
     "output_type": "stream",
     "text": [
      "Размер таблицы (92, 2)\n",
      "\n",
      "Уникальные значения \n",
      "id     92\n",
      "grp     2\n",
      "\n",
      "Пропущенные значения \n",
      "id     0\n",
      "grp    0\n"
     ]
    }
   ],
   "source": [
    "preliminary_analysis(group_add)"
   ]
  },
  {
   "cell_type": "markdown",
   "metadata": {},
   "source": [
    "*group_add* - дополнительная таблица с информацией о принадлежности пользователя к контрольной или экспериментальной группе (А – контроль, B – целевая группа), все значения *id* - уникальные, названия колонок также нужно изменить. "
   ]
  },
  {
   "cell_type": "code",
   "execution_count": 10,
   "metadata": {},
   "outputs": [
    {
     "data": {
      "text/plain": [
       "set()"
      ]
     },
     "execution_count": 10,
     "metadata": {},
     "output_type": "execute_result"
    }
   ],
   "source": [
    "set(groups.id) & set(group_add.id)"
   ]
  },
  {
   "cell_type": "markdown",
   "metadata": {},
   "source": [
    "списки id из таблиц *groups* и *group_add* не имеют пересечений"
   ]
  },
  {
   "cell_type": "code",
   "execution_count": 11,
   "metadata": {
    "scrolled": true
   },
   "outputs": [
    {
     "name": "stderr",
     "output_type": "stream",
     "text": [
      "C:\\Users\\DIMA\\AppData\\Local\\Temp\\ipykernel_11688\\4005169911.py:1: FutureWarning: The frame.append method is deprecated and will be removed from pandas in a future version. Use pandas.concat instead.\n",
      "  groups.append(group_add).grp.value_counts()\n",
      "C:\\Users\\DIMA\\AppData\\Local\\Temp\\ipykernel_11688\\4005169911.py:2: FutureWarning: The frame.append method is deprecated and will be removed from pandas in a future version. Use pandas.concat instead.\n",
      "  pd.DataFrame({'counts': groups.append(group_add).grp.value_counts(),\n",
      "C:\\Users\\DIMA\\AppData\\Local\\Temp\\ipykernel_11688\\4005169911.py:3: FutureWarning: The frame.append method is deprecated and will be removed from pandas in a future version. Use pandas.concat instead.\n",
      "  'normal': groups.append(group_add).grp.value_counts(normalize=True).round(2)})\n"
     ]
    },
    {
     "data": {
      "text/html": [
       "<div>\n",
       "<style scoped>\n",
       "    .dataframe tbody tr th:only-of-type {\n",
       "        vertical-align: middle;\n",
       "    }\n",
       "\n",
       "    .dataframe tbody tr th {\n",
       "        vertical-align: top;\n",
       "    }\n",
       "\n",
       "    .dataframe thead th {\n",
       "        text-align: right;\n",
       "    }\n",
       "</style>\n",
       "<table border=\"1\" class=\"dataframe\">\n",
       "  <thead>\n",
       "    <tr style=\"text-align: right;\">\n",
       "      <th></th>\n",
       "      <th>counts</th>\n",
       "      <th>normal</th>\n",
       "    </tr>\n",
       "  </thead>\n",
       "  <tbody>\n",
       "    <tr>\n",
       "      <th>B</th>\n",
       "      <td>59883</td>\n",
       "      <td>0.8</td>\n",
       "    </tr>\n",
       "    <tr>\n",
       "      <th>A</th>\n",
       "      <td>14693</td>\n",
       "      <td>0.2</td>\n",
       "    </tr>\n",
       "  </tbody>\n",
       "</table>\n",
       "</div>"
      ],
      "text/plain": [
       "   counts  normal\n",
       "B   59883     0.8\n",
       "A   14693     0.2"
      ]
     },
     "execution_count": 11,
     "metadata": {},
     "output_type": "execute_result"
    }
   ],
   "source": [
    "groups.append(group_add).grp.value_counts()\n",
    "pd.DataFrame({'counts': groups.append(group_add).grp.value_counts(), \n",
    "              'normal': groups.append(group_add).grp.value_counts(normalize=True).round(2)})"
   ]
  },
  {
   "cell_type": "markdown",
   "metadata": {},
   "source": [
    "80% пользователей попали в тестовую группу, 20% пользователей попали в контрольную группу"
   ]
  },
  {
   "cell_type": "markdown",
   "metadata": {},
   "source": [
    "В рамках первого задания я буду работать только с данными из файла *groups*"
   ]
  },
  {
   "cell_type": "markdown",
   "metadata": {},
   "source": [
    "___"
   ]
  },
  {
   "cell_type": "code",
   "execution_count": 12,
   "metadata": {},
   "outputs": [
    {
     "data": {
      "text/html": [
       "<div>\n",
       "<style scoped>\n",
       "    .dataframe tbody tr th:only-of-type {\n",
       "        vertical-align: middle;\n",
       "    }\n",
       "\n",
       "    .dataframe tbody tr th {\n",
       "        vertical-align: top;\n",
       "    }\n",
       "\n",
       "    .dataframe thead th {\n",
       "        text-align: right;\n",
       "    }\n",
       "</style>\n",
       "<table border=\"1\" class=\"dataframe\">\n",
       "  <thead>\n",
       "    <tr style=\"text-align: right;\">\n",
       "      <th></th>\n",
       "      <th>student_id</th>\n",
       "      <th>rev</th>\n",
       "    </tr>\n",
       "  </thead>\n",
       "  <tbody>\n",
       "    <tr>\n",
       "      <th>0</th>\n",
       "      <td>1627</td>\n",
       "      <td>990.0</td>\n",
       "    </tr>\n",
       "    <tr>\n",
       "      <th>1</th>\n",
       "      <td>3185</td>\n",
       "      <td>690.0</td>\n",
       "    </tr>\n",
       "    <tr>\n",
       "      <th>2</th>\n",
       "      <td>25973</td>\n",
       "      <td>690.0</td>\n",
       "    </tr>\n",
       "  </tbody>\n",
       "</table>\n",
       "</div>"
      ],
      "text/plain": [
       "   student_id    rev\n",
       "0        1627  990.0\n",
       "1        3185  690.0\n",
       "2       25973  690.0"
      ]
     },
     "execution_count": 12,
     "metadata": {},
     "output_type": "execute_result"
    }
   ],
   "source": [
    "checks.head(3)"
   ]
  },
  {
   "cell_type": "code",
   "execution_count": 13,
   "metadata": {
    "scrolled": true
   },
   "outputs": [
    {
     "name": "stdout",
     "output_type": "stream",
     "text": [
      "Размер таблицы (541, 2)\n",
      "\n",
      "Уникальные значения \n",
      "student_id    541\n",
      "rev            39\n",
      "\n",
      "Пропущенные значения \n",
      "student_id    0\n",
      "rev           0\n"
     ]
    }
   ],
   "source": [
    "preliminary_analysis(checks)"
   ]
  },
  {
   "cell_type": "code",
   "execution_count": 14,
   "metadata": {},
   "outputs": [
    {
     "data": {
      "text/plain": [
       "student_id      int64\n",
       "rev           float64\n",
       "dtype: object"
      ]
     },
     "execution_count": 14,
     "metadata": {},
     "output_type": "execute_result"
    }
   ],
   "source": [
    "checks.dtypes"
   ]
  },
  {
   "cell_type": "code",
   "execution_count": 15,
   "metadata": {},
   "outputs": [
    {
     "data": {
      "text/html": [
       "<div>\n",
       "<style scoped>\n",
       "    .dataframe tbody tr th:only-of-type {\n",
       "        vertical-align: middle;\n",
       "    }\n",
       "\n",
       "    .dataframe tbody tr th {\n",
       "        vertical-align: top;\n",
       "    }\n",
       "\n",
       "    .dataframe thead th {\n",
       "        text-align: right;\n",
       "    }\n",
       "</style>\n",
       "<table border=\"1\" class=\"dataframe\">\n",
       "  <thead>\n",
       "    <tr style=\"text-align: right;\">\n",
       "      <th></th>\n",
       "      <th>counts</th>\n",
       "      <th>normalize</th>\n",
       "    </tr>\n",
       "  </thead>\n",
       "  <tbody>\n",
       "    <tr>\n",
       "      <th>1900.0</th>\n",
       "      <td>97</td>\n",
       "      <td>0.18</td>\n",
       "    </tr>\n",
       "    <tr>\n",
       "      <th>290.0</th>\n",
       "      <td>94</td>\n",
       "      <td>0.17</td>\n",
       "    </tr>\n",
       "    <tr>\n",
       "      <th>690.0</th>\n",
       "      <td>78</td>\n",
       "      <td>0.14</td>\n",
       "    </tr>\n",
       "    <tr>\n",
       "      <th>199.0</th>\n",
       "      <td>46</td>\n",
       "      <td>0.09</td>\n",
       "    </tr>\n",
       "    <tr>\n",
       "      <th>990.0</th>\n",
       "      <td>41</td>\n",
       "      <td>0.08</td>\n",
       "    </tr>\n",
       "  </tbody>\n",
       "</table>\n",
       "</div>"
      ],
      "text/plain": [
       "        counts  normalize\n",
       "1900.0      97       0.18\n",
       "290.0       94       0.17\n",
       "690.0       78       0.14\n",
       "199.0       46       0.09\n",
       "990.0       41       0.08"
      ]
     },
     "execution_count": 15,
     "metadata": {},
     "output_type": "execute_result"
    }
   ],
   "source": [
    "pd.DataFrame({'counts': checks.rev.value_counts(), \n",
    "              'normalize': checks.rev.value_counts(normalize=True).round(2)}) \\\n",
    "    .head()"
   ]
  },
  {
   "cell_type": "markdown",
   "metadata": {},
   "source": [
    "*checks* - таблица с информацией об оплатах пользователей в дни проведения эксперимента, значения *student_id* уникальные. Для колонки *rev* нужно изменить тип данных. Мы видим, что половина платежей приходится на 3 суммы: 1900, 290, 690. Остальные 36 различных сумм составляют вторую половину. Есть необычное значение суммы - 1900.0001 - возможно это связанно с недочетами в системе сбора данных."
   ]
  },
  {
   "cell_type": "markdown",
   "metadata": {},
   "source": [
    "___"
   ]
  },
  {
   "cell_type": "code",
   "execution_count": 16,
   "metadata": {},
   "outputs": [
    {
     "name": "stdout",
     "output_type": "stream",
     "text": [
      "13\n",
      "1\n"
     ]
    }
   ],
   "source": [
    "print(len(set(active_studs.student_id) - (set(groups.id) or set(group_add.id))))\n",
    "print(len(set(checks.student_id) - (set(groups.id) or set(group_add.id))))"
   ]
  },
  {
   "cell_type": "markdown",
   "metadata": {},
   "source": [
    "Для 13 пользователей, которые которые заходили на платформу в дни проведения эксперимента, не определена группа (незначительное количество - меньше 1% от всех активных пользователей).\n",
    "\n",
    "Для 1 пользователя, совершившего оплату так же не определена группа.\n",
    "\n",
    "Эти пользователи не будут участвовать в анализе."
   ]
  },
  {
   "cell_type": "code",
   "execution_count": 17,
   "metadata": {},
   "outputs": [
    {
     "data": {
      "text/plain": [
       "149"
      ]
     },
     "execution_count": 17,
     "metadata": {},
     "output_type": "execute_result"
    }
   ],
   "source": [
    "len(set(checks.student_id) - (set(active_studs.student_id)))"
   ]
  },
  {
   "cell_type": "markdown",
   "metadata": {},
   "source": [
    "149 пользователей совершили оплату в дни проведения эксперимента, но при этом не заходили на платформу. Это значительное количество (35% от пользователей, совершивших оплату) - не похоже на ошибку сбора данных. "
   ]
  },
  {
   "cell_type": "code",
   "execution_count": 18,
   "metadata": {
    "scrolled": true
   },
   "outputs": [
    {
     "name": "stderr",
     "output_type": "stream",
     "text": [
      "C:\\Users\\DIMA\\AppData\\Local\\Temp\\ipykernel_11688\\683246622.py:3: FutureWarning: The frame.append method is deprecated and will be removed from pandas in a future version. Use pandas.concat instead.\n",
      "  pd.DataFrame({'counts': groups.append(group_add).query(\"id in @list_ids\").grp.value_counts(),\n",
      "C:\\Users\\DIMA\\AppData\\Local\\Temp\\ipykernel_11688\\683246622.py:4: FutureWarning: The frame.append method is deprecated and will be removed from pandas in a future version. Use pandas.concat instead.\n",
      "  'normal': groups.append(group_add).query(\"id in @list_ids\").grp.value_counts(normalize=True).round(2)})\n"
     ]
    },
    {
     "data": {
      "text/html": [
       "<div>\n",
       "<style scoped>\n",
       "    .dataframe tbody tr th:only-of-type {\n",
       "        vertical-align: middle;\n",
       "    }\n",
       "\n",
       "    .dataframe tbody tr th {\n",
       "        vertical-align: top;\n",
       "    }\n",
       "\n",
       "    .dataframe thead th {\n",
       "        text-align: right;\n",
       "    }\n",
       "</style>\n",
       "<table border=\"1\" class=\"dataframe\">\n",
       "  <thead>\n",
       "    <tr style=\"text-align: right;\">\n",
       "      <th></th>\n",
       "      <th>counts</th>\n",
       "      <th>normal</th>\n",
       "    </tr>\n",
       "  </thead>\n",
       "  <tbody>\n",
       "    <tr>\n",
       "      <th>B</th>\n",
       "      <td>120</td>\n",
       "      <td>0.81</td>\n",
       "    </tr>\n",
       "    <tr>\n",
       "      <th>A</th>\n",
       "      <td>29</td>\n",
       "      <td>0.19</td>\n",
       "    </tr>\n",
       "  </tbody>\n",
       "</table>\n",
       "</div>"
      ],
      "text/plain": [
       "   counts  normal\n",
       "B     120    0.81\n",
       "A      29    0.19"
      ]
     },
     "execution_count": 18,
     "metadata": {},
     "output_type": "execute_result"
    }
   ],
   "source": [
    "#list_ids - список пользователей, которые совершили оплату, но при этом не заходили на платформу\n",
    "list_ids = list(set(checks.student_id) - (set(active_studs.student_id)))\n",
    "pd.DataFrame({'counts': groups.append(group_add).query(\"id in @list_ids\").grp.value_counts(), \n",
    "              'normal': groups.append(group_add).query(\"id in @list_ids\").grp.value_counts(normalize=True).round(2)})"
   ]
  },
  {
   "cell_type": "markdown",
   "metadata": {},
   "source": [
    "Мы видим, что пользователи, которые совершили оплату, но при этом не заходили на платформу распределены по группам примерно так же, как и остальные, а значит что их наличие никак не связанно с новой механикой оплаты.\n",
    "\n",
    "Я предполагаю, что у этих пользователей подключен автоплатеж, в таком случае эти пользователи не будут участвовать в анализе, т.к. они не видели новую механику оплаты услуг. "
   ]
  },
  {
   "cell_type": "markdown",
   "metadata": {},
   "source": [
    "___"
   ]
  },
  {
   "cell_type": "markdown",
   "metadata": {},
   "source": [
    "Работаем с данными только на основе файла 'groups.csv'"
   ]
  },
  {
   "cell_type": "code",
   "execution_count": 19,
   "metadata": {},
   "outputs": [],
   "source": [
    "#функция для переименования колонок у таблиц с информацией о принадлежности пользователя к группе (А или В)\n",
    "#изменяет исходную таблицу и возвращает ее\n",
    "def rename_col (df):\n",
    "    df.columns = ['student_id', 'group']\n",
    "    return df"
   ]
  },
  {
   "cell_type": "markdown",
   "metadata": {},
   "source": [
    "создадим новый DataFrame, в котором будет вся нужная информация о пользователях, которые участвовали в эксперименте"
   ]
  },
  {
   "cell_type": "code",
   "execution_count": 20,
   "metadata": {},
   "outputs": [],
   "source": [
    "#создадим новый DataFrame в котором будут данные о принадлежности прользователей группам из файла 'groups.csv'\n",
    "#предварительно приведем названия колонок к определеннму виду с помощью функции rename_col (groups)\n",
    "group_all = rename_col (groups)"
   ]
  },
  {
   "cell_type": "code",
   "execution_count": 21,
   "metadata": {},
   "outputs": [],
   "source": [
    "#создадим новый DataFrame test, в котором для всех активных пользователей будет информация о группе и об оплатах \n",
    "#в новом DF только активные пользователи, для которых определена группа\n",
    "test = active_studs.merge(checks, how='left', on='student_id') \\\n",
    "                   .merge(group_all, how='inner', on='student_id')"
   ]
  },
  {
   "cell_type": "markdown",
   "metadata": {},
   "source": [
    "Посмотрим, что у нас получилось"
   ]
  },
  {
   "cell_type": "code",
   "execution_count": 22,
   "metadata": {},
   "outputs": [
    {
     "data": {
      "text/html": [
       "<div>\n",
       "<style scoped>\n",
       "    .dataframe tbody tr th:only-of-type {\n",
       "        vertical-align: middle;\n",
       "    }\n",
       "\n",
       "    .dataframe tbody tr th {\n",
       "        vertical-align: top;\n",
       "    }\n",
       "\n",
       "    .dataframe thead th {\n",
       "        text-align: right;\n",
       "    }\n",
       "</style>\n",
       "<table border=\"1\" class=\"dataframe\">\n",
       "  <thead>\n",
       "    <tr style=\"text-align: right;\">\n",
       "      <th></th>\n",
       "      <th>student_id</th>\n",
       "      <th>rev</th>\n",
       "      <th>group</th>\n",
       "    </tr>\n",
       "  </thead>\n",
       "  <tbody>\n",
       "    <tr>\n",
       "      <th>0</th>\n",
       "      <td>581585</td>\n",
       "      <td>NaN</td>\n",
       "      <td>A</td>\n",
       "    </tr>\n",
       "    <tr>\n",
       "      <th>1</th>\n",
       "      <td>3276743</td>\n",
       "      <td>NaN</td>\n",
       "      <td>B</td>\n",
       "    </tr>\n",
       "    <tr>\n",
       "      <th>2</th>\n",
       "      <td>4238589</td>\n",
       "      <td>NaN</td>\n",
       "      <td>A</td>\n",
       "    </tr>\n",
       "  </tbody>\n",
       "</table>\n",
       "</div>"
      ],
      "text/plain": [
       "   student_id  rev group\n",
       "0      581585  NaN     A\n",
       "1     3276743  NaN     B\n",
       "2     4238589  NaN     A"
      ]
     },
     "execution_count": 22,
     "metadata": {},
     "output_type": "execute_result"
    }
   ],
   "source": [
    "test.head(3)"
   ]
  },
  {
   "cell_type": "code",
   "execution_count": 23,
   "metadata": {},
   "outputs": [
    {
     "name": "stdout",
     "output_type": "stream",
     "text": [
      "Размер таблицы (8328, 3)\n",
      "\n",
      "Уникальные значения \n",
      "student_id    8328\n",
      "rev             38\n",
      "group            2\n",
      "\n",
      "Пропущенные значения \n",
      "student_id       0\n",
      "rev           7937\n",
      "group            0\n"
     ]
    }
   ],
   "source": [
    "preliminary_analysis(test)"
   ]
  },
  {
   "cell_type": "code",
   "execution_count": 24,
   "metadata": {},
   "outputs": [
    {
     "data": {
      "text/html": [
       "<div>\n",
       "<style scoped>\n",
       "    .dataframe tbody tr th:only-of-type {\n",
       "        vertical-align: middle;\n",
       "    }\n",
       "\n",
       "    .dataframe tbody tr th {\n",
       "        vertical-align: top;\n",
       "    }\n",
       "\n",
       "    .dataframe thead th {\n",
       "        text-align: right;\n",
       "    }\n",
       "</style>\n",
       "<table border=\"1\" class=\"dataframe\">\n",
       "  <thead>\n",
       "    <tr style=\"text-align: right;\">\n",
       "      <th></th>\n",
       "      <th>counts</th>\n",
       "      <th>normal</th>\n",
       "    </tr>\n",
       "  </thead>\n",
       "  <tbody>\n",
       "    <tr>\n",
       "      <th>B</th>\n",
       "      <td>6793</td>\n",
       "      <td>0.82</td>\n",
       "    </tr>\n",
       "    <tr>\n",
       "      <th>A</th>\n",
       "      <td>1535</td>\n",
       "      <td>0.18</td>\n",
       "    </tr>\n",
       "  </tbody>\n",
       "</table>\n",
       "</div>"
      ],
      "text/plain": [
       "   counts  normal\n",
       "B    6793    0.82\n",
       "A    1535    0.18"
      ]
     },
     "execution_count": 24,
     "metadata": {},
     "output_type": "execute_result"
    }
   ],
   "source": [
    "pd.DataFrame({'counts': test.group.value_counts(), \n",
    "              'normal': test.group.value_counts(normalize=True).round(2)})"
   ]
  },
  {
   "cell_type": "code",
   "execution_count": 25,
   "metadata": {
    "scrolled": false
   },
   "outputs": [
    {
     "data": {
      "text/html": [
       "<div>\n",
       "<style scoped>\n",
       "    .dataframe tbody tr th:only-of-type {\n",
       "        vertical-align: middle;\n",
       "    }\n",
       "\n",
       "    .dataframe tbody tr th {\n",
       "        vertical-align: top;\n",
       "    }\n",
       "\n",
       "    .dataframe thead th {\n",
       "        text-align: right;\n",
       "    }\n",
       "</style>\n",
       "<table border=\"1\" class=\"dataframe\">\n",
       "  <thead>\n",
       "    <tr style=\"text-align: right;\">\n",
       "      <th></th>\n",
       "      <th>counts</th>\n",
       "      <th>normal</th>\n",
       "    </tr>\n",
       "  </thead>\n",
       "  <tbody>\n",
       "    <tr>\n",
       "      <th>1900.0000</th>\n",
       "      <td>92</td>\n",
       "      <td>0.24</td>\n",
       "    </tr>\n",
       "    <tr>\n",
       "      <th>290.0000</th>\n",
       "      <td>70</td>\n",
       "      <td>0.18</td>\n",
       "    </tr>\n",
       "    <tr>\n",
       "      <th>1900.0001</th>\n",
       "      <td>35</td>\n",
       "      <td>0.09</td>\n",
       "    </tr>\n",
       "    <tr>\n",
       "      <th>199.0000</th>\n",
       "      <td>32</td>\n",
       "      <td>0.08</td>\n",
       "    </tr>\n",
       "    <tr>\n",
       "      <th>840.0000</th>\n",
       "      <td>24</td>\n",
       "      <td>0.06</td>\n",
       "    </tr>\n",
       "  </tbody>\n",
       "</table>\n",
       "</div>"
      ],
      "text/plain": [
       "           counts  normal\n",
       "1900.0000      92    0.24\n",
       "290.0000       70    0.18\n",
       "1900.0001      35    0.09\n",
       "199.0000       32    0.08\n",
       "840.0000       24    0.06"
      ]
     },
     "execution_count": 25,
     "metadata": {},
     "output_type": "execute_result"
    }
   ],
   "source": [
    "pd.DataFrame({'counts': test.rev.value_counts(), \n",
    "              'normal': test.rev.value_counts(normalize=True).round(2)}) \\\n",
    "    .head()"
   ]
  },
  {
   "cell_type": "markdown",
   "metadata": {},
   "source": [
    "Значение 1900.0001 явно выбивается среди остальных значений, поэтому я воспользуюсь округлением, что бы избавиться от дробной части, а перед этим изменю тип данных колонки *rev*"
   ]
  },
  {
   "cell_type": "code",
   "execution_count": 26,
   "metadata": {},
   "outputs": [],
   "source": [
    "test.rev = test.rev.astype('float').round()"
   ]
  },
  {
   "cell_type": "code",
   "execution_count": 27,
   "metadata": {},
   "outputs": [
    {
     "data": {
      "text/html": [
       "<div>\n",
       "<style scoped>\n",
       "    .dataframe tbody tr th:only-of-type {\n",
       "        vertical-align: middle;\n",
       "    }\n",
       "\n",
       "    .dataframe tbody tr th {\n",
       "        vertical-align: top;\n",
       "    }\n",
       "\n",
       "    .dataframe thead th {\n",
       "        text-align: right;\n",
       "    }\n",
       "</style>\n",
       "<table border=\"1\" class=\"dataframe\">\n",
       "  <thead>\n",
       "    <tr style=\"text-align: right;\">\n",
       "      <th></th>\n",
       "      <th>counts</th>\n",
       "      <th>normal</th>\n",
       "    </tr>\n",
       "  </thead>\n",
       "  <tbody>\n",
       "    <tr>\n",
       "      <th>1900.0</th>\n",
       "      <td>127</td>\n",
       "      <td>0.32</td>\n",
       "    </tr>\n",
       "    <tr>\n",
       "      <th>290.0</th>\n",
       "      <td>70</td>\n",
       "      <td>0.18</td>\n",
       "    </tr>\n",
       "    <tr>\n",
       "      <th>199.0</th>\n",
       "      <td>32</td>\n",
       "      <td>0.08</td>\n",
       "    </tr>\n",
       "    <tr>\n",
       "      <th>840.0</th>\n",
       "      <td>24</td>\n",
       "      <td>0.06</td>\n",
       "    </tr>\n",
       "    <tr>\n",
       "      <th>990.0</th>\n",
       "      <td>22</td>\n",
       "      <td>0.06</td>\n",
       "    </tr>\n",
       "  </tbody>\n",
       "</table>\n",
       "</div>"
      ],
      "text/plain": [
       "        counts  normal\n",
       "1900.0     127    0.32\n",
       "290.0       70    0.18\n",
       "199.0       32    0.08\n",
       "840.0       24    0.06\n",
       "990.0       22    0.06"
      ]
     },
     "execution_count": 27,
     "metadata": {},
     "output_type": "execute_result"
    }
   ],
   "source": [
    "pd.DataFrame({'counts': test.rev.value_counts(), \n",
    "              'normal': test.rev.value_counts(normalize=True).round(2)}) \\\n",
    "    .head()"
   ]
  },
  {
   "cell_type": "markdown",
   "metadata": {},
   "source": [
    "Таблица *test* готова для анализа результатов эксперимента"
   ]
  },
  {
   "cell_type": "markdown",
   "metadata": {},
   "source": [
    "___"
   ]
  },
  {
   "cell_type": "markdown",
   "metadata": {},
   "source": [
    "По имеющимся данным мы можем рассмотреть 3 метрики:\n",
    "\n",
    "- **CR** - конверсия\n",
    "- **ARPPU** - средний доход с каждого платящего пользователя\n",
    "- **ARPU** - средний доход с каждого пользователя"
   ]
  },
  {
   "cell_type": "markdown",
   "metadata": {},
   "source": [
    "___"
   ]
  },
  {
   "cell_type": "markdown",
   "metadata": {},
   "source": [
    "**1. CR - конверсия**"
   ]
  },
  {
   "cell_type": "markdown",
   "metadata": {},
   "source": [
    "Добавим в таблицу *test* колонку *'conv'*, значение в этой колонке будет говорить на о том, совершил ли пользователь покупку в дни эксперимента или нет. (1 - пользователь совершил покупку, 0 - пользователь не совершал покупку)"
   ]
  },
  {
   "cell_type": "code",
   "execution_count": 28,
   "metadata": {},
   "outputs": [],
   "source": [
    "test['conv'] = np.where(test.rev > 0, 1, 0)"
   ]
  },
  {
   "cell_type": "markdown",
   "metadata": {},
   "source": [
    "Узнаем, различаются ли значения конверсии в экспериментальной и тестовой группе."
   ]
  },
  {
   "cell_type": "code",
   "execution_count": 29,
   "metadata": {},
   "outputs": [
    {
     "name": "stdout",
     "output_type": "stream",
     "text": [
      "Конверсия в группе A: 0.0508\n",
      "Конверсия в группе B: 0.0461\n"
     ]
    }
   ],
   "source": [
    "print('Конверсия в группе A:', (test.query(\"group == 'A'\").conv.sum()/test.query(\"group == 'A'\").conv.count()).round(4))\n",
    "print('Конверсия в группе B:', (test.query(\"group == 'B'\").conv.sum()/test.query(\"group == 'B'\").conv.count()).round(4))"
   ]
  },
  {
   "cell_type": "code",
   "execution_count": 30,
   "metadata": {
    "scrolled": true
   },
   "outputs": [
    {
     "data": {
      "text/plain": [
       "<AxesSubplot:xlabel='group', ylabel='Count'>"
      ]
     },
     "execution_count": 30,
     "metadata": {},
     "output_type": "execute_result"
    },
    {
     "data": {
      "image/png": "[encoded data removed]",
      "text/plain": [
       "<Figure size 640x480 with 1 Axes>"
      ]
     },
     "metadata": {},
     "output_type": "display_data"
    }
   ],
   "source": [
    "sns.histplot(data=test, x='group', hue='conv')"
   ]
  },
  {
   "cell_type": "markdown",
   "metadata": {},
   "source": [
    "Конверсия в экспериментальной группе немного ниже чем в тестовой. Проверим, являются ли эти различия статистически значимыми.\n",
    "\n",
    "Для этого используем Критерий Хи-квадрат\n",
    "\n",
    "H1 - значение конверсии зависит от группы (использование новой механики оплаты уменьшило отношение платящих пользователей ко всем пользователям)\n",
    "\n",
    "H0 - значение конверсии не зависит от группы (использование новой механики оплаты не повлияло на отношение платящих пользователей ко всем пользователям)"
   ]
  },
  {
   "cell_type": "code",
   "execution_count": 31,
   "metadata": {},
   "outputs": [
    {
     "data": {
      "text/html": [
       "<div>\n",
       "<style scoped>\n",
       "    .dataframe tbody tr th:only-of-type {\n",
       "        vertical-align: middle;\n",
       "    }\n",
       "\n",
       "    .dataframe tbody tr th {\n",
       "        vertical-align: top;\n",
       "    }\n",
       "\n",
       "    .dataframe thead th {\n",
       "        text-align: right;\n",
       "    }\n",
       "</style>\n",
       "<table border=\"1\" class=\"dataframe\">\n",
       "  <thead>\n",
       "    <tr style=\"text-align: right;\">\n",
       "      <th>group</th>\n",
       "      <th>A</th>\n",
       "      <th>B</th>\n",
       "    </tr>\n",
       "    <tr>\n",
       "      <th>conv</th>\n",
       "      <th></th>\n",
       "      <th></th>\n",
       "    </tr>\n",
       "  </thead>\n",
       "  <tbody>\n",
       "    <tr>\n",
       "      <th>0</th>\n",
       "      <td>1457</td>\n",
       "      <td>6480</td>\n",
       "    </tr>\n",
       "    <tr>\n",
       "      <th>1</th>\n",
       "      <td>78</td>\n",
       "      <td>313</td>\n",
       "    </tr>\n",
       "  </tbody>\n",
       "</table>\n",
       "</div>"
      ],
      "text/plain": [
       "group     A     B\n",
       "conv             \n",
       "0      1457  6480\n",
       "1        78   313"
      ]
     },
     "execution_count": 31,
     "metadata": {},
     "output_type": "execute_result"
    }
   ],
   "source": [
    "pd.crosstab(test.conv, test.group)"
   ]
  },
  {
   "cell_type": "code",
   "execution_count": 32,
   "metadata": {},
   "outputs": [
    {
     "data": {
      "text/plain": [
       "(0.526607176998989, 0.46803677583199144)"
      ]
     },
     "execution_count": 32,
     "metadata": {},
     "output_type": "execute_result"
    }
   ],
   "source": [
    "stat, p, dof, expected = chi2_contingency(pd.crosstab(test.conv, test.group))\n",
    "stat, p"
   ]
  },
  {
   "cell_type": "markdown",
   "metadata": {},
   "source": [
    "p-value > 0,05 - нет оснований отклонить нулевую гипотезу - следовательно различия не являются статистически значимыми.\n",
    "\n",
    "Мы не можем утвержнать, что применение новой механики оплаты влияет на значение конверсии."
   ]
  },
  {
   "cell_type": "markdown",
   "metadata": {},
   "source": [
    "___"
   ]
  },
  {
   "cell_type": "markdown",
   "metadata": {},
   "source": [
    "**2. ARPPU - средний доход с каждого платящего пользователя**"
   ]
  },
  {
   "cell_type": "code",
   "execution_count": 33,
   "metadata": {
    "scrolled": false
   },
   "outputs": [
    {
     "name": "stdout",
     "output_type": "stream",
     "text": [
      "ARPPU в группе A: 933.5897\n",
      "ARPPU в группе B: 1255.8275\n"
     ]
    }
   ],
   "source": [
    "print('ARPPU в группе A:', (test.query(\"group == 'A'\").rev.sum()/test.query(\"group == 'A' and conv == 1\").rev.count()).round(4))\n",
    "print('ARPPU в группе B:', (test.query(\"group == 'B'\").rev.sum()/test.query(\"group == 'B' and conv == 1\").rev.count()).round(4))"
   ]
  },
  {
   "cell_type": "markdown",
   "metadata": {},
   "source": [
    "Мы видим, что значение метрики в группе B выше. Нужно понять, является ли это различие статистически значимым."
   ]
  },
  {
   "cell_type": "markdown",
   "metadata": {},
   "source": [
    "Посмотрим на распределение сумм чеков среди оплативших пользователей "
   ]
  },
  {
   "cell_type": "code",
   "execution_count": 34,
   "metadata": {
    "scrolled": false
   },
   "outputs": [
    {
     "data": {
      "text/plain": [
       "<seaborn.axisgrid.FacetGrid at 0x2d092d55af0>"
      ]
     },
     "execution_count": 34,
     "metadata": {},
     "output_type": "execute_result"
    },
    {
     "data": {
      "image/png": "[encoded data removed]",
      "text/plain": [
       "<Figure size 1200x600 with 2 Axes>"
      ]
     },
     "metadata": {},
     "output_type": "display_data"
    }
   ],
   "source": [
    "g = sns.FacetGrid (data=test.query(\"rev > 0\"), col='group', height=6)\n",
    "g. map (sns.histplot , 'rev', stat='probability')"
   ]
  },
  {
   "cell_type": "markdown",
   "metadata": {},
   "source": [
    "На графике видно, что распределение имеет сильную положительную ассиметрию. Прологарифмируем колонку *rev* что бы распределение приобрело вид, приближенный к нормальному"
   ]
  },
  {
   "cell_type": "code",
   "execution_count": 35,
   "metadata": {},
   "outputs": [],
   "source": [
    "test['rev_log'] = np.log(test.rev)"
   ]
  },
  {
   "cell_type": "code",
   "execution_count": 36,
   "metadata": {
    "scrolled": false
   },
   "outputs": [
    {
     "data": {
      "text/plain": [
       "<seaborn.axisgrid.FacetGrid at 0x2d092e456a0>"
      ]
     },
     "execution_count": 36,
     "metadata": {},
     "output_type": "execute_result"
    },
    {
     "data": {
      "image/png": "[encoded data removed]",
      "text/plain": [
       "<Figure size 1200x600 with 2 Axes>"
      ]
     },
     "metadata": {},
     "output_type": "display_data"
    }
   ],
   "source": [
    "g = sns.FacetGrid (data=test, col='group', height=6)\n",
    "g. map (sns.histplot , 'rev_log', stat='probability') "
   ]
  },
  {
   "cell_type": "markdown",
   "metadata": {},
   "source": [
    "Так распределения выглядят лучше. \n",
    "\n",
    "Для сравнения средних в двух выборках я планирую использовать t-тест. \n",
    "\n",
    "Проверим гомогенность распределений с помощью критерия Левена.\n",
    "\n",
    "H0 - дисперсии в 2-х группах однородные (распределения являются гомогенными)\n",
    "\n",
    "H1 - дисперсии в 2-х группах неоднородные (распределения не являются гомогенными)"
   ]
  },
  {
   "cell_type": "code",
   "execution_count": 37,
   "metadata": {},
   "outputs": [],
   "source": [
    "ARPPU_A = test.query(\"group == 'A' and rev > 0\").rev_log\n",
    "ARPPU_B = test.query(\"group == 'B' and rev > 0\").rev_log"
   ]
  },
  {
   "cell_type": "code",
   "execution_count": 38,
   "metadata": {},
   "outputs": [
    {
     "data": {
      "text/plain": [
       "LeveneResult(statistic=0.19024733130895616, pvalue=0.6629528098544764)"
      ]
     },
     "execution_count": 38,
     "metadata": {},
     "output_type": "execute_result"
    }
   ],
   "source": [
    "levene(ARPPU_A, ARPPU_B, center='mean')"
   ]
  },
  {
   "cell_type": "markdown",
   "metadata": {},
   "source": [
    "p-value > 0,05 - нет оснований отклонить нулевую гипотезу - следовательно различия между дисперсиями в двух группах не являются статистически значимыми. \n",
    "\n",
    "Для сравнения средних в двух выборках можно использовать t-тест."
   ]
  },
  {
   "cell_type": "code",
   "execution_count": 39,
   "metadata": {
    "scrolled": true
   },
   "outputs": [
    {
     "data": {
      "text/plain": [
       "0.00026569811952692544"
      ]
     },
     "execution_count": 39,
     "metadata": {},
     "output_type": "execute_result"
    }
   ],
   "source": [
    "st, p = ttest_ind(ARPPU_A, ARPPU_B)\n",
    "p"
   ]
  },
  {
   "cell_type": "markdown",
   "metadata": {},
   "source": [
    "p-value < 0,05 - отклоняем нулевую гипотезу - следовательно различия между средними дисперсиями в двух группах являются статистически значимыми.\n",
    "\n",
    "Я могу сделать вывод, что использование новой механики оплаты влияет на увеличение ARPPU."
   ]
  },
  {
   "cell_type": "markdown",
   "metadata": {},
   "source": [
    "___"
   ]
  },
  {
   "cell_type": "markdown",
   "metadata": {},
   "source": [
    "**3. ARPAU - средний доход с каждого активного пользователя**"
   ]
  },
  {
   "cell_type": "code",
   "execution_count": 40,
   "metadata": {},
   "outputs": [],
   "source": [
    "test.rev = test.rev.fillna(0)"
   ]
  },
  {
   "cell_type": "code",
   "execution_count": 41,
   "metadata": {},
   "outputs": [
    {
     "name": "stdout",
     "output_type": "stream",
     "text": [
      "ARPAU в группе A: 47.4397\n",
      "ARPAU в группе B: 57.8646\n"
     ]
    }
   ],
   "source": [
    "print('ARPAU в группе A:', (test.query(\"group == 'A'\").rev.sum()/test.query(\"group == 'A'\").rev.count()).round(4))\n",
    "print('ARPAU в группе B:', (test.query(\"group == 'B'\").rev.sum()/test.query(\"group == 'B'\").rev.count()).round(4))"
   ]
  },
  {
   "cell_type": "markdown",
   "metadata": {},
   "source": [
    "Мы видим, что значение метрики в группе B выше. Нужно понять, является ли это различие статистически значимым."
   ]
  },
  {
   "cell_type": "markdown",
   "metadata": {},
   "source": [
    "Посмотрим на распределение сумм чеков среди всех активных пользователей"
   ]
  },
  {
   "cell_type": "code",
   "execution_count": 42,
   "metadata": {},
   "outputs": [
    {
     "data": {
      "text/plain": [
       "<seaborn.axisgrid.FacetGrid at 0x2d09243b310>"
      ]
     },
     "execution_count": 42,
     "metadata": {},
     "output_type": "execute_result"
    },
    {
     "data": {
      "image/png": "[encoded data removed]",
      "text/plain": [
       "<Figure size 1200x600 with 2 Axes>"
      ]
     },
     "metadata": {},
     "output_type": "display_data"
    }
   ],
   "source": [
    "g = sns.FacetGrid (data=test, col='group', height=6)\n",
    "g. map (sns.histplot , 'rev', stat='probability') "
   ]
  },
  {
   "cell_type": "markdown",
   "metadata": {},
   "source": [
    "Мы видим, что в двух группах распределение сильно отличается от нормального. Подавляющее большинство значений равно 0 - это те пользователи, которые не совершили оплату в дни эксперимента. \n",
    "\n",
    "Считаю что t-test в такой ситуации покажет неадекватные результаты.\n",
    "\n",
    "Я буду использовать метод Bootstrap"
   ]
  },
  {
   "cell_type": "code",
   "execution_count": 43,
   "metadata": {},
   "outputs": [],
   "source": [
    "ARPAU_A = test.query(\"group == 'A'\").rev.fillna(0)\n",
    "ARPAU_B = test.query(\"group == 'B'\").rev.fillna(0)"
   ]
  },
  {
   "cell_type": "code",
   "execution_count": 44,
   "metadata": {},
   "outputs": [],
   "source": [
    "ARPAU_A_ci = list(bootstrap((ARPAU_A, ), np.mean).confidence_interval)\n",
    "ARPAU_B_ci = list(bootstrap((ARPAU_B, ), np.mean).confidence_interval)"
   ]
  },
  {
   "cell_type": "code",
   "execution_count": 45,
   "metadata": {},
   "outputs": [
    {
     "name": "stdout",
     "output_type": "stream",
     "text": [
      "Доверительный интервал для группы A:  [34.9703688888192, 64.51831155945901]\n",
      "Доверительный интервал для группы В:  [50.67969585545566, 65.63196748835111]\n"
     ]
    }
   ],
   "source": [
    "print('Доверительный интервал для группы A: ', ARPAU_A_ci)\n",
    "print('Доверительный интервал для группы В: ', ARPAU_B_ci)"
   ]
  },
  {
   "cell_type": "markdown",
   "metadata": {},
   "source": [
    "Мы видим, что доверительные интервалы пересекаются, следовательно мы не можем отклонить нулевую гипотезу, различия между медианами ARPU в двух группах не являются статистически значимыми.\n",
    "\n",
    "Я делаю вывод, что новая механика оплаты не влияет на медианный чек среди всех активных пользователей."
   ]
  },
  {
   "cell_type": "markdown",
   "metadata": {},
   "source": [
    "___"
   ]
  },
  {
   "cell_type": "markdown",
   "metadata": {},
   "source": [
    "**Выводы:**\n",
    "1. Новая механика оплаты не влияет на значение конверсии\n",
    "2. Новая механика оплаты позволила увеличить значение ARPPU\n",
    "3. Новая механика оплаты не влияет на значение ARPAU"
   ]
  },
  {
   "cell_type": "markdown",
   "metadata": {},
   "source": [
    "___"
   ]
  },
  {
   "cell_type": "markdown",
   "metadata": {},
   "source": [
    "**Задание 3. Python**\n",
    "\n",
    "**3.1 Задача**\n",
    "\n",
    " - Реализуйте функцию, которая будет автоматически подгружать информацию из дополнительного файла groups_add.csv (заголовки могут отличаться) и на основании дополнительных параметров пересчитывать метрики.\n",
    " - Реализуйте функцию, которая будет строить графики по получаемым метрикам."
   ]
  },
  {
   "cell_type": "markdown",
   "metadata": {},
   "source": [
    "___"
   ]
  },
  {
   "cell_type": "markdown",
   "metadata": {},
   "source": [
    "В этом файле реализованы две функции.\n",
    "\n",
    "Первая функция, объединяет данные из файлов *groups.csv* и *group_add.csv* и на основе новых данных пересчитывает метрики\n",
    " - CR\n",
    " - ARPPU\n",
    " - ARPAU\n",
    " \n",
    "функция возвращает значения метрик для двух групп, а так же определяет, являются ли различия статистически значимыми.\n",
    "\n",
    "В файле *task_3.py* эта функция реализована в виде DAG.\n",
    "\n",
    "Вторая функция отображает значения метрик на графиках."
   ]
  },
  {
   "cell_type": "code",
   "execution_count": 46,
   "metadata": {},
   "outputs": [
    {
     "name": "stderr",
     "output_type": "stream",
     "text": [
      "C:\\Users\\DIMA\\AppData\\Local\\Temp\\ipykernel_11688\\809769303.py:26: FutureWarning: The frame.append method is deprecated and will be removed from pandas in a future version. Use pandas.concat instead.\n",
      "  group_all = rename_col(df).append(rename_col(df_add)).drop_duplicates().dropna()\n"
     ]
    },
    {
     "name": "stdout",
     "output_type": "stream",
     "text": [
      "CR_A > CR_B\n",
      "CR_A = 0.0507\n",
      "CR_B = 0.0462\n",
      "Гипотезы:\n",
      "H0 - различия не являются статистически значимыми\n",
      "H1 - различия являются статистически значимыми\n",
      "р = 0.48625240457231045\n",
      "p > 0.05\n",
      "нет оснований отклонить нулевую гипотезу\n",
      "различия не являются статистически значимыми\n",
      "\n",
      "ARPPU_A < ARPPU_B\n",
      "ARPPU_A = 933.5897\n",
      "ARPPU_B = 1257.879\n",
      "Гипотезы:\n",
      "H0 - различия не являются статистически значимыми\n",
      "H1 - различия являются статистически значимыми\n",
      "р = 0.0002429088191961274\n",
      "p < 0.05\n",
      "отклоняем нулевую гипотезу\n",
      "различия являются статистически значимыми\n",
      "\n",
      "ARPAU_A < ARPAU_B\n",
      "ARPAU_A = 47.3472\n",
      "ARPAU_B = 58.0588\n",
      "Гипотезы:\n",
      "H0 - различия не являются статистически значимыми\n",
      "H1 - различия являются статистически значимыми\n",
      "доверительные интервалы:\n",
      "ARPAU_A = [34.99828510226197, 65.02803602544391]\n",
      "ARPAU_B = [50.95808354650258, 66.16959073389155]\n",
      "доверительные интервалы пересекаются\n",
      "нет оснований отклонить нулевую гипотезу\n",
      "различия не являются статистически значимыми\n",
      "\n"
     ]
    }
   ],
   "source": [
    "def AB_test():\n",
    "    \n",
    "    path_active_studs = 'active_studs.csv'\n",
    "    path_checks = 'checks.csv'\n",
    "    path_groups = 'groups.csv'\n",
    "    path_group_add = 'group_add.csv'\n",
    "    \n",
    "    \n",
    "    #функция считывает файл по ссылке с Яндекс Диска\n",
    "    #возвращает DataFrame\n",
    "    def get_data(path, sep):\n",
    "        data = pd.read_csv(path, sep=sep)\n",
    "        return data\n",
    "    \n",
    "    #функция для добавления в таблицу с группами данных из дополнительного файла\n",
    "    #изменяет названия колонок на ['student_id', 'group']\n",
    "    #объединяет две таблицы, удаляет дубликаты и пропущенные значения\n",
    "    #находит id_students, которые определены в две разные группы, выводит списком на экран, \n",
    "    #и не включает их в результирующую таблицу, возвращает полученную таблицу\n",
    "    def add_data(df, df_add):\n",
    "        \n",
    "        def rename_col (df):\n",
    "            df.columns = ['student_id', 'group']\n",
    "            return df\n",
    "        \n",
    "        group_all = rename_col(df).append(rename_col(df_add)).drop_duplicates().dropna()\n",
    "        error_list = group_all \\\n",
    "            .groupby('student_id', as_index=False).agg({'group': 'count'}) \\\n",
    "            .query(\"group > 1\").student_id.to_list()\n",
    "        if len(error_list) > 0:\n",
    "            print('Список пользователей, которые попали одновременно в две группы:', error_list)\n",
    "        group_all = group_all.query(\"student_id != @error_list\")\n",
    "        return group_all\n",
    "    \n",
    "    def merge_data(active_studs, checks, group_all):\n",
    "        test = active_studs.merge(checks, how='left', on='student_id') \\\n",
    "                   .merge(group_all, how='inner', on='student_id')\n",
    "        test.rev = test.rev.astype('float').round()\n",
    "        test['conv'] = np.where(test.rev > 0, 1, 0)\n",
    "        return test\n",
    "    \n",
    "    def CR(test):\n",
    "        test['conv'] = np.where(test.rev > 0, 1, 0)\n",
    "        CR_A = (test.query(\"group == 'A'\").conv.sum()/test.query(\"group == 'A'\").conv.count()).round(4)\n",
    "        CR_B = (test.query(\"group == 'B'\").conv.sum()/test.query(\"group == 'B'\").conv.count()).round(4)\n",
    "        if CR_A > CR_B:\n",
    "            res_CR = f'''CR_A > CR_B\n",
    "CR_A = {CR_A}\n",
    "CR_B = {CR_B}'''\n",
    "        else:\n",
    "            res_CR = f'''CR_A < CR_B\n",
    "CR_A = {CR_A}\n",
    "CR_B = {CR_B}'''\n",
    "        return res_CR\n",
    "    \n",
    "    def chi2(test):\n",
    "        pd.crosstab(test.conv, test.group)\n",
    "        stat, p, dof, expected = chi2_contingency(pd.crosstab(test.conv, test.group))\n",
    "        if p < 0.05:\n",
    "            res_chi2 = f'''Гипотезы:\n",
    "H0 - различия не являются статистически значимыми\n",
    "H1 - различия являются статистически значимыми\n",
    "р = {p}\n",
    "p < 0.05\n",
    "отклоняем нулевую гипотезу\n",
    "различия являются статистически значимыми\n",
    "'''\n",
    "        else:\n",
    "            res_chi2 = f'''Гипотезы:\n",
    "H0 - различия не являются статистически значимыми\n",
    "H1 - различия являются статистически значимыми\n",
    "р = {p}\n",
    "p > 0.05\n",
    "нет оснований отклонить нулевую гипотезу\n",
    "различия не являются статистически значимыми\n",
    "'''\n",
    "        return res_chi2\n",
    "            \n",
    "    def ARPPU(test):\n",
    "        ARPPU_A = (test.query(\"group == 'A'\").rev.sum()/test.query(\"group == 'A' and conv == 1\").rev.count()).round(4)\n",
    "        ARPPU_B = (test.query(\"group == 'B'\").rev.sum()/test.query(\"group == 'B' and conv == 1\").rev.count()).round(4)\n",
    "        if ARPPU_A > ARPPU_B:\n",
    "            res_ARPPU = f'''ARPPU_A > ARPPU_B\n",
    "ARPPU_A = {ARPPU_A}\n",
    "ARPPU_B = {ARPPU_B}'''\n",
    "        else:\n",
    "            res_ARPPU = f'''ARPPU_A < ARPPU_B\n",
    "ARPPU_A = {ARPPU_A}\n",
    "ARPPU_B = {ARPPU_B}'''\n",
    "        return res_ARPPU\n",
    "    \n",
    "    def ttest(test):\n",
    "        test['rev_log'] = np.log(test.rev)\n",
    "        ARPPU_A = test.query(\"group == 'A' and rev > 0\").rev_log\n",
    "        ARPPU_B = test.query(\"group == 'B' and rev > 0\").rev_log\n",
    "        st, p = ttest_ind(ARPPU_A, ARPPU_B)\n",
    "        if p < 0.05:\n",
    "            res_ttest = f'''Гипотезы:\n",
    "H0 - различия не являются статистически значимыми\n",
    "H1 - различия являются статистически значимыми\n",
    "р = {p}\n",
    "p < 0.05\n",
    "отклоняем нулевую гипотезу\n",
    "различия являются статистически значимыми\n",
    "'''\n",
    "        else:\n",
    "            res_ttest = f'''Гипотезы:\n",
    "H0 - различия не являются статистически значимыми\n",
    "H1 - различия являются статистически значимыми\n",
    "р = {p}\n",
    "p > 0.05\n",
    "нет оснований отклонить нулевую гипотезу\n",
    "различия не являются статистически значимыми\n",
    "'''\n",
    "        return res_ttest\n",
    "    \n",
    "    def ARPAU(test):\n",
    "        test.rev = test.rev.fillna(0)\n",
    "        ARPAU_A = (test.query(\"group == 'A'\").rev.sum()/test.query(\"group == 'A'\").rev.count()).round(4)\n",
    "        ARPAU_B = (test.query(\"group == 'B'\").rev.sum()/test.query(\"group == 'B'\").rev.count()).round(4)\n",
    "        if ARPAU_A > ARPAU_B:\n",
    "            res_ARPAU = f'''ARPAU_A > ARPAU_B\n",
    "ARPAU_A = {ARPAU_A}\n",
    "ARPAU_B = {ARPAU_B}'''\n",
    "        else:\n",
    "            res_ARPAU = f'''ARPAU_A < ARPAU_B\n",
    "ARPAU_A = {ARPAU_A}\n",
    "ARPAU_B = {ARPAU_B}'''\n",
    "        return res_ARPAU\n",
    "\n",
    "    def bootst(test):\n",
    "        ARPAU_A = test.query(\"group == 'A'\").rev.fillna(0)\n",
    "        ARPAU_B = test.query(\"group == 'B'\").rev.fillna(0)\n",
    "        \n",
    "        ARPAU_A_ci = list(bootstrap((ARPAU_A, ), np.mean).confidence_interval)\n",
    "        ARPAU_B_ci = list(bootstrap((ARPAU_B, ), np.mean).confidence_interval)\n",
    "        \n",
    "        if ARPAU_A_ci[0] < ARPAU_B_ci[0]:\n",
    "            if ARPAU_A_ci[1] < ARPAU_B_ci[0]:\n",
    "                flag = False\n",
    "            else:\n",
    "                flag = True\n",
    "        else:\n",
    "            if ARPAU_B_ci[1] < ARPAU_A_ci[0]:\n",
    "                flag = False\n",
    "            else:\n",
    "                flag = True\n",
    "                \n",
    "        if flag == False:\n",
    "            res_bootstrap = f'''Гипотезы:\n",
    "H0 - различия не являются статистически значимыми\n",
    "H1 - различия являются статистически значимыми\n",
    "доверительные интервалы:\n",
    "ARPAU_A = {ARPAU_A_ci}\n",
    "ARPAU_B = {ARPAU_B_ci}\n",
    "доверительные интервалы не пересекаются\n",
    "отклоняем нулевую гипотезу\n",
    "различия являются статистически значимыми\n",
    "'''\n",
    "        else:\n",
    "            res_bootstrap = f'''Гипотезы:\n",
    "H0 - различия не являются статистически значимыми\n",
    "H1 - различия являются статистически значимыми\n",
    "доверительные интервалы:\n",
    "ARPAU_A = {ARPAU_A_ci}\n",
    "ARPAU_B = {ARPAU_B_ci}\n",
    "доверительные интервалы пересекаются\n",
    "нет оснований отклонить нулевую гипотезу\n",
    "различия не являются статистически значимыми\n",
    "'''\n",
    "        return res_bootstrap\n",
    "    \n",
    "    def result(res_CR, res_chi2, res_ARPPU, res_ttest, res_ARPAU, res_bootstrap):\n",
    "        print(res_CR, res_chi2, res_ARPPU, res_ttest, res_ARPAU, res_bootstrap, sep='\\n')\n",
    "            \n",
    "        \n",
    "    active_studs = get_data(path_active_studs, ',')\n",
    "    checks = get_data(path_checks, ';')\n",
    "    groups = get_data(path_groups, ';')\n",
    "    group_add = get_data(path_group_add, ',')\n",
    "    group_all = add_data(groups, group_add)\n",
    "    test = merge_data(active_studs, checks, group_all)\n",
    "    res_CR = CR(test)\n",
    "    res_chi2 = chi2(test)\n",
    "    res_ARPPU = ARPPU(test)\n",
    "    res_ttest = ttest(test)\n",
    "    res_ARPAU = ARPAU(test)\n",
    "    res_bootstrap = bootst(test)\n",
    "    result(res_CR, res_chi2, res_ARPPU, res_ttest, res_ARPAU, res_bootstrap)\n",
    "    \n",
    "    return test\n",
    "    \n",
    "new_test = AB_test()"
   ]
  },
  {
   "cell_type": "code",
   "execution_count": 47,
   "metadata": {},
   "outputs": [
    {
     "name": "stdout",
     "output_type": "stream",
     "text": [
      "Значения метрик в группах A и B\n"
     ]
    },
    {
     "data": {
      "image/png": "[encoded data removed]",
      "text/plain": [
       "<Figure size 640x480 with 3 Axes>"
      ]
     },
     "metadata": {},
     "output_type": "display_data"
    }
   ],
   "source": [
    "import matplotlib.pyplot as plt\n",
    "def grafics(test):\n",
    "    \n",
    "    print('Значения метрик в группах A и B')\n",
    "    \n",
    "    df = test.groupby('group', as_index=False).agg({'conv': 'mean'})\n",
    "    plt.subplot(1, 5, 1)\n",
    "    sns.barplot(data=df, x='group', y='conv')\n",
    "    \n",
    "    df = data=test.query(\"rev > 0\").groupby('group', as_index=False).agg({'rev': 'mean'}).rename(columns={'rev': 'ARPPU'})\n",
    "    plt.subplot(1, 5, 3)\n",
    "    sns.barplot(data=df, x='group', y='ARPPU')\n",
    "    \n",
    "    df = data=test.groupby('group', as_index=False).agg({'rev': 'mean'}).rename(columns={'rev': 'ARPAU'})\n",
    "    plt.subplot(1, 5, 5)\n",
    "    sns.barplot(data=df, x='group', y='ARPAU')\n",
    "\n",
    "grafics(new_test)"
   ]
  }
 ],
 "metadata": {
  "kernelspec": {
   "display_name": "Python 3 (ipykernel)",
   "language": "python",
   "name": "python3"
  },
  "language_info": {
   "codemirror_mode": {
    "name": "ipython",
    "version": 3
   },
   "file_extension": ".py",
   "mimetype": "text/x-python",
   "name": "python",
   "nbconvert_exporter": "python",
   "pygments_lexer": "ipython3",
   "version": "3.9.13"
  }
 },
 "nbformat": 4,
 "nbformat_minor": 4
}
